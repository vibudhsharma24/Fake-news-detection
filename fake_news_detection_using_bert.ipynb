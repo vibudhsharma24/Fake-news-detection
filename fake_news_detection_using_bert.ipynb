{
  "cells": [
    {
      "cell_type": "code",
      "execution_count": null,
      "metadata": {
        "_cell_guid": "b1076dfc-b9ad-4769-8c92-a6c4dae69d19",
        "_uuid": "8f2839f25d086af736a60e9eeb907d3b93b6e0e5",
        "execution": {
          "iopub.execute_input": "2022-10-01T14:22:06.105727Z",
          "iopub.status.busy": "2022-10-01T14:22:06.105367Z",
          "iopub.status.idle": "2022-10-01T14:22:14.003329Z",
          "shell.execute_reply": "2022-10-01T14:22:14.002454Z",
          "shell.execute_reply.started": "2022-10-01T14:22:06.105612Z"
        },
        "trusted": true,
        "id": "BnfHGYyZfSNL",
        "outputId": "ff0bf535-4c3a-44bf-b196-9588a6ec3a9a"
      },
      "outputs": [
        {
          "name": "stdout",
          "output_type": "stream",
          "text": [
            "Requirement already satisfied: transformers in /opt/conda/lib/python3.7/site-packages (4.5.1)\n",
            "Requirement already satisfied: requests in /opt/conda/lib/python3.7/site-packages (from transformers) (2.25.1)\n",
            "Requirement already satisfied: sacremoses in /opt/conda/lib/python3.7/site-packages (from transformers) (0.0.45)\n",
            "Requirement already satisfied: filelock in /opt/conda/lib/python3.7/site-packages (from transformers) (3.0.12)\n",
            "Requirement already satisfied: regex!=2019.12.17 in /opt/conda/lib/python3.7/site-packages (from transformers) (2021.8.3)\n",
            "Requirement already satisfied: importlib-metadata in /opt/conda/lib/python3.7/site-packages (from transformers) (3.4.0)\n",
            "Requirement already satisfied: tqdm>=4.27 in /opt/conda/lib/python3.7/site-packages (from transformers) (4.62.1)\n",
            "Requirement already satisfied: numpy>=1.17 in /opt/conda/lib/python3.7/site-packages (from transformers) (1.19.5)\n",
            "Requirement already satisfied: packaging in /opt/conda/lib/python3.7/site-packages (from transformers) (21.0)\n",
            "Requirement already satisfied: tokenizers<0.11,>=0.10.1 in /opt/conda/lib/python3.7/site-packages (from transformers) (0.10.3)\n",
            "Requirement already satisfied: zipp>=0.5 in /opt/conda/lib/python3.7/site-packages (from importlib-metadata->transformers) (3.5.0)\n",
            "Requirement already satisfied: typing-extensions>=3.6.4 in /opt/conda/lib/python3.7/site-packages (from importlib-metadata->transformers) (3.7.4.3)\n",
            "Requirement already satisfied: pyparsing>=2.0.2 in /opt/conda/lib/python3.7/site-packages (from packaging->transformers) (2.4.7)\n",
            "Requirement already satisfied: idna<3,>=2.5 in /opt/conda/lib/python3.7/site-packages (from requests->transformers) (2.10)\n",
            "Requirement already satisfied: certifi>=2017.4.17 in /opt/conda/lib/python3.7/site-packages (from requests->transformers) (2021.5.30)\n",
            "Requirement already satisfied: urllib3<1.27,>=1.21.1 in /opt/conda/lib/python3.7/site-packages (from requests->transformers) (1.26.6)\n",
            "Requirement already satisfied: chardet<5,>=3.0.2 in /opt/conda/lib/python3.7/site-packages (from requests->transformers) (4.0.0)\n",
            "Requirement already satisfied: joblib in /opt/conda/lib/python3.7/site-packages (from sacremoses->transformers) (1.0.1)\n",
            "Requirement already satisfied: six in /opt/conda/lib/python3.7/site-packages (from sacremoses->transformers) (1.15.0)\n",
            "Requirement already satisfied: click in /opt/conda/lib/python3.7/site-packages (from sacremoses->transformers) (8.0.1)\n",
            "\u001b[33mWARNING: Running pip as the 'root' user can result in broken permissions and conflicting behaviour with the system package manager. It is recommended to use a virtual environment instead: https://pip.pypa.io/warnings/venv\u001b[0m\n"
          ]
        }
      ],
      "source": [
        "! pip install transformers"
      ]
    },
    {
      "cell_type": "code",
      "execution_count": 1,
      "metadata": {
        "execution": {
          "iopub.execute_input": "2022-10-01T14:22:14.005770Z",
          "iopub.status.busy": "2022-10-01T14:22:14.005309Z",
          "iopub.status.idle": "2022-10-01T14:22:24.449198Z",
          "shell.execute_reply": "2022-10-01T14:22:24.448424Z",
          "shell.execute_reply.started": "2022-10-01T14:22:14.005728Z"
        },
        "trusted": true,
        "id": "jIDoQOBzfSNN"
      },
      "outputs": [],
      "source": [
        "from tensorflow.keras.models import Model, Sequential\n",
        "from tensorflow.keras.layers import Dense, Dropout, Flatten, Conv2D, MaxPooling2D,Input\n",
        "from tensorflow.keras.callbacks import EarlyStopping\n",
        "from tensorflow.python.ops.numpy_ops import np_utils\n",
        "from transformers import BertModel, TFBertModel\n",
        "import tensorflow as tf\n",
        "from tensorflow.keras.optimizers import Adam\n",
        "from transformers import BertTokenizer, TFBertModel\n",
        "from tensorflow.keras import regularizers\n",
        "from sklearn.metrics import classification_report\n",
        "from sklearn.metrics import confusion_matrix"
      ]
    },
    {
      "cell_type": "code",
      "execution_count": 4,
      "metadata": {
        "execution": {
          "iopub.execute_input": "2022-10-01T14:22:24.450777Z",
          "iopub.status.busy": "2022-10-01T14:22:24.450492Z",
          "iopub.status.idle": "2022-10-01T14:22:24.730965Z",
          "shell.execute_reply": "2022-10-01T14:22:24.730213Z",
          "shell.execute_reply.started": "2022-10-01T14:22:24.450742Z"
        },
        "trusted": true,
        "id": "ChqqC2FgfSNO"
      },
      "outputs": [],
      "source": [
        "import pandas as pd\n",
        "from matplotlib import rcParams\n",
        "import seaborn as sns\n",
        "import numpy as np\n",
        "from PIL import Image\n",
        "from wordcloud import WordCloud\n",
        "from sklearn.model_selection import train_test_split\n",
        "from matplotlib import pyplot as plt\n",
        "from transformers import AutoTokenizer"
      ]
    },
    {
      "cell_type": "markdown",
      "metadata": {
        "id": "TlCBWehHfSNO"
      },
      "source": [
        "##Load dataset"
      ]
    },
    {
      "cell_type": "code",
      "execution_count": 5,
      "metadata": {
        "execution": {
          "iopub.execute_input": "2022-10-01T14:22:24.733151Z",
          "iopub.status.busy": "2022-10-01T14:22:24.732880Z",
          "iopub.status.idle": "2022-10-01T14:22:27.445495Z",
          "shell.execute_reply": "2022-10-01T14:22:27.444621Z",
          "shell.execute_reply.started": "2022-10-01T14:22:24.733117Z"
        },
        "trusted": true,
        "id": "O4eu7R7hfSNP"
      },
      "outputs": [],
      "source": [
        "fake_data=pd.read_csv(\"Fake.csv\")\n",
        "real_data=pd.read_csv(\"True.csv\")"
      ]
    },
    {
      "cell_type": "markdown",
      "metadata": {
        "id": "VdxFEqR2fSNQ"
      },
      "source": [
        "##Data Analysis"
      ]
    },
    {
      "cell_type": "code",
      "execution_count": 6,
      "metadata": {
        "execution": {
          "iopub.execute_input": "2022-10-01T14:22:27.447227Z",
          "iopub.status.busy": "2022-10-01T14:22:27.446963Z",
          "iopub.status.idle": "2022-10-01T14:22:27.469424Z",
          "shell.execute_reply": "2022-10-01T14:22:27.468620Z",
          "shell.execute_reply.started": "2022-10-01T14:22:27.447185Z"
        },
        "trusted": true,
        "id": "UJJKrRf5fSNQ",
        "outputId": "a56f651f-9c44-469b-ed90-d0de1adef308",
        "colab": {
          "base_uri": "https://localhost:8080/",
          "height": 206
        }
      },
      "outputs": [
        {
          "output_type": "execute_result",
          "data": {
            "text/plain": [
              "                                               title  \\\n",
              "0   Donald Trump Sends Out Embarrassing New Year’...   \n",
              "1   Drunk Bragging Trump Staffer Started Russian ...   \n",
              "2   Sheriff David Clarke Becomes An Internet Joke...   \n",
              "3   Trump Is So Obsessed He Even Has Obama’s Name...   \n",
              "4   Pope Francis Just Called Out Donald Trump Dur...   \n",
              "\n",
              "                                                text subject  \\\n",
              "0  Donald Trump just couldn t wish all Americans ...    News   \n",
              "1  House Intelligence Committee Chairman Devin Nu...    News   \n",
              "2  On Friday, it was revealed that former Milwauk...    News   \n",
              "3  On Christmas day, Donald Trump announced that ...    News   \n",
              "4  Pope Francis used his annual Christmas Day mes...    News   \n",
              "\n",
              "                date  \n",
              "0  December 31, 2017  \n",
              "1  December 31, 2017  \n",
              "2  December 30, 2017  \n",
              "3  December 29, 2017  \n",
              "4  December 25, 2017  "
            ],
            "text/html": [
              "\n",
              "  <div id=\"df-0b0a82ca-f8f1-417a-a44b-6025ae7ff8ac\" class=\"colab-df-container\">\n",
              "    <div>\n",
              "<style scoped>\n",
              "    .dataframe tbody tr th:only-of-type {\n",
              "        vertical-align: middle;\n",
              "    }\n",
              "\n",
              "    .dataframe tbody tr th {\n",
              "        vertical-align: top;\n",
              "    }\n",
              "\n",
              "    .dataframe thead th {\n",
              "        text-align: right;\n",
              "    }\n",
              "</style>\n",
              "<table border=\"1\" class=\"dataframe\">\n",
              "  <thead>\n",
              "    <tr style=\"text-align: right;\">\n",
              "      <th></th>\n",
              "      <th>title</th>\n",
              "      <th>text</th>\n",
              "      <th>subject</th>\n",
              "      <th>date</th>\n",
              "    </tr>\n",
              "  </thead>\n",
              "  <tbody>\n",
              "    <tr>\n",
              "      <th>0</th>\n",
              "      <td>Donald Trump Sends Out Embarrassing New Year’...</td>\n",
              "      <td>Donald Trump just couldn t wish all Americans ...</td>\n",
              "      <td>News</td>\n",
              "      <td>December 31, 2017</td>\n",
              "    </tr>\n",
              "    <tr>\n",
              "      <th>1</th>\n",
              "      <td>Drunk Bragging Trump Staffer Started Russian ...</td>\n",
              "      <td>House Intelligence Committee Chairman Devin Nu...</td>\n",
              "      <td>News</td>\n",
              "      <td>December 31, 2017</td>\n",
              "    </tr>\n",
              "    <tr>\n",
              "      <th>2</th>\n",
              "      <td>Sheriff David Clarke Becomes An Internet Joke...</td>\n",
              "      <td>On Friday, it was revealed that former Milwauk...</td>\n",
              "      <td>News</td>\n",
              "      <td>December 30, 2017</td>\n",
              "    </tr>\n",
              "    <tr>\n",
              "      <th>3</th>\n",
              "      <td>Trump Is So Obsessed He Even Has Obama’s Name...</td>\n",
              "      <td>On Christmas day, Donald Trump announced that ...</td>\n",
              "      <td>News</td>\n",
              "      <td>December 29, 2017</td>\n",
              "    </tr>\n",
              "    <tr>\n",
              "      <th>4</th>\n",
              "      <td>Pope Francis Just Called Out Donald Trump Dur...</td>\n",
              "      <td>Pope Francis used his annual Christmas Day mes...</td>\n",
              "      <td>News</td>\n",
              "      <td>December 25, 2017</td>\n",
              "    </tr>\n",
              "  </tbody>\n",
              "</table>\n",
              "</div>\n",
              "    <div class=\"colab-df-buttons\">\n",
              "\n",
              "  <div class=\"colab-df-container\">\n",
              "    <button class=\"colab-df-convert\" onclick=\"convertToInteractive('df-0b0a82ca-f8f1-417a-a44b-6025ae7ff8ac')\"\n",
              "            title=\"Convert this dataframe to an interactive table.\"\n",
              "            style=\"display:none;\">\n",
              "\n",
              "  <svg xmlns=\"http://www.w3.org/2000/svg\" height=\"24px\" viewBox=\"0 -960 960 960\">\n",
              "    <path d=\"M120-120v-720h720v720H120Zm60-500h600v-160H180v160Zm220 220h160v-160H400v160Zm0 220h160v-160H400v160ZM180-400h160v-160H180v160Zm440 0h160v-160H620v160ZM180-180h160v-160H180v160Zm440 0h160v-160H620v160Z\"/>\n",
              "  </svg>\n",
              "    </button>\n",
              "\n",
              "  <style>\n",
              "    .colab-df-container {\n",
              "      display:flex;\n",
              "      gap: 12px;\n",
              "    }\n",
              "\n",
              "    .colab-df-convert {\n",
              "      background-color: #E8F0FE;\n",
              "      border: none;\n",
              "      border-radius: 50%;\n",
              "      cursor: pointer;\n",
              "      display: none;\n",
              "      fill: #1967D2;\n",
              "      height: 32px;\n",
              "      padding: 0 0 0 0;\n",
              "      width: 32px;\n",
              "    }\n",
              "\n",
              "    .colab-df-convert:hover {\n",
              "      background-color: #E2EBFA;\n",
              "      box-shadow: 0px 1px 2px rgba(60, 64, 67, 0.3), 0px 1px 3px 1px rgba(60, 64, 67, 0.15);\n",
              "      fill: #174EA6;\n",
              "    }\n",
              "\n",
              "    .colab-df-buttons div {\n",
              "      margin-bottom: 4px;\n",
              "    }\n",
              "\n",
              "    [theme=dark] .colab-df-convert {\n",
              "      background-color: #3B4455;\n",
              "      fill: #D2E3FC;\n",
              "    }\n",
              "\n",
              "    [theme=dark] .colab-df-convert:hover {\n",
              "      background-color: #434B5C;\n",
              "      box-shadow: 0px 1px 3px 1px rgba(0, 0, 0, 0.15);\n",
              "      filter: drop-shadow(0px 1px 2px rgba(0, 0, 0, 0.3));\n",
              "      fill: #FFFFFF;\n",
              "    }\n",
              "  </style>\n",
              "\n",
              "    <script>\n",
              "      const buttonEl =\n",
              "        document.querySelector('#df-0b0a82ca-f8f1-417a-a44b-6025ae7ff8ac button.colab-df-convert');\n",
              "      buttonEl.style.display =\n",
              "        google.colab.kernel.accessAllowed ? 'block' : 'none';\n",
              "\n",
              "      async function convertToInteractive(key) {\n",
              "        const element = document.querySelector('#df-0b0a82ca-f8f1-417a-a44b-6025ae7ff8ac');\n",
              "        const dataTable =\n",
              "          await google.colab.kernel.invokeFunction('convertToInteractive',\n",
              "                                                    [key], {});\n",
              "        if (!dataTable) return;\n",
              "\n",
              "        const docLinkHtml = 'Like what you see? Visit the ' +\n",
              "          '<a target=\"_blank\" href=https://colab.research.google.com/notebooks/data_table.ipynb>data table notebook</a>'\n",
              "          + ' to learn more about interactive tables.';\n",
              "        element.innerHTML = '';\n",
              "        dataTable['output_type'] = 'display_data';\n",
              "        await google.colab.output.renderOutput(dataTable, element);\n",
              "        const docLink = document.createElement('div');\n",
              "        docLink.innerHTML = docLinkHtml;\n",
              "        element.appendChild(docLink);\n",
              "      }\n",
              "    </script>\n",
              "  </div>\n",
              "\n",
              "\n",
              "<div id=\"df-2ae6517a-03dd-44a6-bacd-b75e58b95eff\">\n",
              "  <button class=\"colab-df-quickchart\" onclick=\"quickchart('df-2ae6517a-03dd-44a6-bacd-b75e58b95eff')\"\n",
              "            title=\"Suggest charts\"\n",
              "            style=\"display:none;\">\n",
              "\n",
              "<svg xmlns=\"http://www.w3.org/2000/svg\" height=\"24px\"viewBox=\"0 0 24 24\"\n",
              "     width=\"24px\">\n",
              "    <g>\n",
              "        <path d=\"M19 3H5c-1.1 0-2 .9-2 2v14c0 1.1.9 2 2 2h14c1.1 0 2-.9 2-2V5c0-1.1-.9-2-2-2zM9 17H7v-7h2v7zm4 0h-2V7h2v10zm4 0h-2v-4h2v4z\"/>\n",
              "    </g>\n",
              "</svg>\n",
              "  </button>\n",
              "\n",
              "<style>\n",
              "  .colab-df-quickchart {\n",
              "      --bg-color: #E8F0FE;\n",
              "      --fill-color: #1967D2;\n",
              "      --hover-bg-color: #E2EBFA;\n",
              "      --hover-fill-color: #174EA6;\n",
              "      --disabled-fill-color: #AAA;\n",
              "      --disabled-bg-color: #DDD;\n",
              "  }\n",
              "\n",
              "  [theme=dark] .colab-df-quickchart {\n",
              "      --bg-color: #3B4455;\n",
              "      --fill-color: #D2E3FC;\n",
              "      --hover-bg-color: #434B5C;\n",
              "      --hover-fill-color: #FFFFFF;\n",
              "      --disabled-bg-color: #3B4455;\n",
              "      --disabled-fill-color: #666;\n",
              "  }\n",
              "\n",
              "  .colab-df-quickchart {\n",
              "    background-color: var(--bg-color);\n",
              "    border: none;\n",
              "    border-radius: 50%;\n",
              "    cursor: pointer;\n",
              "    display: none;\n",
              "    fill: var(--fill-color);\n",
              "    height: 32px;\n",
              "    padding: 0;\n",
              "    width: 32px;\n",
              "  }\n",
              "\n",
              "  .colab-df-quickchart:hover {\n",
              "    background-color: var(--hover-bg-color);\n",
              "    box-shadow: 0 1px 2px rgba(60, 64, 67, 0.3), 0 1px 3px 1px rgba(60, 64, 67, 0.15);\n",
              "    fill: var(--button-hover-fill-color);\n",
              "  }\n",
              "\n",
              "  .colab-df-quickchart-complete:disabled,\n",
              "  .colab-df-quickchart-complete:disabled:hover {\n",
              "    background-color: var(--disabled-bg-color);\n",
              "    fill: var(--disabled-fill-color);\n",
              "    box-shadow: none;\n",
              "  }\n",
              "\n",
              "  .colab-df-spinner {\n",
              "    border: 2px solid var(--fill-color);\n",
              "    border-color: transparent;\n",
              "    border-bottom-color: var(--fill-color);\n",
              "    animation:\n",
              "      spin 1s steps(1) infinite;\n",
              "  }\n",
              "\n",
              "  @keyframes spin {\n",
              "    0% {\n",
              "      border-color: transparent;\n",
              "      border-bottom-color: var(--fill-color);\n",
              "      border-left-color: var(--fill-color);\n",
              "    }\n",
              "    20% {\n",
              "      border-color: transparent;\n",
              "      border-left-color: var(--fill-color);\n",
              "      border-top-color: var(--fill-color);\n",
              "    }\n",
              "    30% {\n",
              "      border-color: transparent;\n",
              "      border-left-color: var(--fill-color);\n",
              "      border-top-color: var(--fill-color);\n",
              "      border-right-color: var(--fill-color);\n",
              "    }\n",
              "    40% {\n",
              "      border-color: transparent;\n",
              "      border-right-color: var(--fill-color);\n",
              "      border-top-color: var(--fill-color);\n",
              "    }\n",
              "    60% {\n",
              "      border-color: transparent;\n",
              "      border-right-color: var(--fill-color);\n",
              "    }\n",
              "    80% {\n",
              "      border-color: transparent;\n",
              "      border-right-color: var(--fill-color);\n",
              "      border-bottom-color: var(--fill-color);\n",
              "    }\n",
              "    90% {\n",
              "      border-color: transparent;\n",
              "      border-bottom-color: var(--fill-color);\n",
              "    }\n",
              "  }\n",
              "</style>\n",
              "\n",
              "  <script>\n",
              "    async function quickchart(key) {\n",
              "      const quickchartButtonEl =\n",
              "        document.querySelector('#' + key + ' button');\n",
              "      quickchartButtonEl.disabled = true;  // To prevent multiple clicks.\n",
              "      quickchartButtonEl.classList.add('colab-df-spinner');\n",
              "      try {\n",
              "        const charts = await google.colab.kernel.invokeFunction(\n",
              "            'suggestCharts', [key], {});\n",
              "      } catch (error) {\n",
              "        console.error('Error during call to suggestCharts:', error);\n",
              "      }\n",
              "      quickchartButtonEl.classList.remove('colab-df-spinner');\n",
              "      quickchartButtonEl.classList.add('colab-df-quickchart-complete');\n",
              "    }\n",
              "    (() => {\n",
              "      let quickchartButtonEl =\n",
              "        document.querySelector('#df-2ae6517a-03dd-44a6-bacd-b75e58b95eff button');\n",
              "      quickchartButtonEl.style.display =\n",
              "        google.colab.kernel.accessAllowed ? 'block' : 'none';\n",
              "    })();\n",
              "  </script>\n",
              "</div>\n",
              "\n",
              "    </div>\n",
              "  </div>\n"
            ],
            "application/vnd.google.colaboratory.intrinsic+json": {
              "type": "dataframe",
              "variable_name": "fake_data",
              "summary": "{\n  \"name\": \"fake_data\",\n  \"rows\": 23481,\n  \"fields\": [\n    {\n      \"column\": \"title\",\n      \"properties\": {\n        \"dtype\": \"string\",\n        \"num_unique_values\": 17903,\n        \"samples\": [\n          \" Fox News Mocked Into Oblivion After This F*cking STUPID Attempt To Make Steve Bannon Look Sane (TWEETS)\",\n          \"BREAKING: FL GOV RICK SCOTT Calls for FBI Director to Resign\",\n          \" WATCH: Mike Pence\\u2019s Photo Op With Puerto Rico Survivors Just Went TERRIBLY Wrong (VIDEO)\"\n        ],\n        \"semantic_type\": \"\",\n        \"description\": \"\"\n      }\n    },\n    {\n      \"column\": \"text\",\n      \"properties\": {\n        \"dtype\": \"string\",\n        \"num_unique_values\": 17455,\n        \"samples\": [\n          \"The moral decay continues The Kapiolani Medical Center for Women and Children at the University of Hawaii is currently recruiting pregnant girls and women to participate in second-trimester abortions to measure their bleeding during the operation, with and without antihemorrhagic drugs. According to the Clinical Trials website, run by the National Institutes of Health, participants must be at least 14 years old and 18-24 weeks pregnant.The controversial study, led by Bliss Kaneshiro, MD and Kate Whitehouse, DO, will monitor bleeding during D&E abortions to determine the effects of the drug oxytocin, commonly used to minimize blood loss and decrease the risk of hemorrhage.The clinical trial, called  Effects of Oxytocin on Bleeding Outcomes during Dilation and Evacuation  began in October 2014 and is a collaboration between UH, Society of Family Planning and the University of Washington.The Society of Family Planning funds a number of similar research projects, such as experimenting with the dosage of Misoprostol, a uterine contracting agent, prior to surgical abortions at 13-18 weeks and exploring umbilical cord injections to produce fetal death prior to late-term abortions.In the UH study, researchers will carry out a  randomized, double-blinded, placebo-controlled trials,  to determine the effect of oxytocin s use on uterine bleeding, meaning that they will either provide or deny intravenous oxytocin to the women.Reports suggest that some doctors are concerned that withholding oxytocin during surgery may put patients, especially teen girls, at risk. This study is reminiscent of Nazi concentration camp experiments. I pity the poor women who are being treated like lab rats, especially those who are denied the drug to reduce hemorrhaging,  said Troy Newman, President of Operation Rescue.Dilation and evacuation abortions are surgical procedures that involve dismembering the pre-born baby with forceps, scraping the inside of the uterus with a curette to remove any residuals and finally suctioning out the womb to make sure the contents are completely removed.After the abortion, the corpse of the fetus is reassembled and examined to ensure everything was successfully removed and that the abortion was complete.The study is hoping to attract up to 166 test subjects and is expected to conclude in July 2015.Via: Breitbart News\",\n          \"CNN was quick to scoop up Corey Lewandowski after Donald Trump kicked him out of his role as campaign manager, but his first week on the job is going pretty much exactly how you would expect it to go   terribly.Not only has Lewandowski proven himself to be pretty much like a paid spokesman for Trump, but his defense of the disgraced GOP candidate isn t being received well. Earlier this week, Lewandowski revealed that he was under contract and couldn t criticize The Donald, even after being fired from the campaign. Today, Lewandowski got called out by Hillary Clinton surrogate Christine Quinn for hyping Trump up to be an expert on the Brexit decision   a suggestion that was clearly false.On Monday s edition of CNN s New Day, Lewandowski made another pathetic defense of Trump by trying to reframe the candidate s disgusting reaction to Brexit, where he mostly spoke about how much the decision would be good for his Scotland golf resort. Lewandowski s defense was: Obviously the U.S. dollar has become much stronger now against the British pound. If you re going to spend money in Europe, now would actually be a good time to go with the fall of the pound.What you have is a world view, so what you have is someone who is saying,  Let s look at this from the U.S. perspective. If you want to go and travel overseas   just from a monetary perspective   now is the right time to do that because what you re getting is more for your dollar. Quinn wasn t having it. She ripped into Lewandowski, firing back, Donald Trump is not running to be travel agent of the world, he s running to be president of the United States.  She continued: What he said wasn t a commentary on international markets, it was,  When the pound goes down, more people will come to my golf course. Donald Trump s main concern isn t the international markets, it isn t the impact that Brexit will have on hard working Americans  401Ks, it s himself. How can he make more money, how can he put more money in his bank account? Lewandowski compared the Brexit decision to Trump s rise in the GOP, and Quinn once again called him out and put him back in his place. She said: Trump touted that he saw this coming. That s ridiculous because when he was first asked about Brexit by the press, he didn t appear to know what it was. Lewandowski tried to counter by insisting that People are too smart, they are tired of being told what to do.  He then tried to commend Trump for being a selfish moron: You know what Donald Trump said about Brexit? What he said was, you don t have to listen to me because it s not my decision. He didn t weigh in like Hillary Clinton did, like Barack Obama did, saying that you can t do this. Quinn fought back, Because he didn t know what it was. Lewandowski was fighting a losing battle. Trump s reaction to Brexit was just as terrifying as it was humorous   it truly proved that Trump knows nothing about foreign affairs, and hasn t spent any time educating himself since the beginning of his presidential candidacy. If only some of the hours he spent getting into fights on Twitter were being used for learning about how the world works. But instead, he once again exposed himself as an unfit choice for President. And when people like Lewandowski try to make sense of his idiocy, they only make themselves look equally foolish.You can watch the embarrassing video below:Featured image via screen capture\",\n          \"A Michigan woman decided to defend against tyranny? when she and another shopper couldn t agree over who got to buy the last notebook on the shelf at the Novi Towne Center store.According to ABC 13, the brawl   yes, brawl    involved two Farmington Hills residents, ages 46 and 32, and a mother and daughter from South Lyon, ages 51 and 20. In other words, these were all grown adults who should have known better but hey   there was only one notebook on the shelf, and we ve all seen what happens in those post-apocalyptic movies when a store is down to the last gallon of milk, right?Two of the women, one of whom was the unnamed 20-year-old, reached for the notebook at the same time. The 46 and 32-year-olds apparently decided that she wasn t getting their goddamn notebook and began pulling her hair.Then, because this had almost hit peak  trailer park,  the 20-year-old s mother decided to go for bonus points by pulling out her gun. Fortunately, someone pushed her aside before she could do any harm.This is one of the NRA s  responsible gun owners  (conservatives can t dismiss this one, as it is confirmed that she is a concealed carry permit holder)   ready to leap into action at the most minor sign of danger and make things worse by turning the situation potentially deadly.Watch it happen below:Featured image via screengrab\"\n        ],\n        \"semantic_type\": \"\",\n        \"description\": \"\"\n      }\n    },\n    {\n      \"column\": \"subject\",\n      \"properties\": {\n        \"dtype\": \"category\",\n        \"num_unique_values\": 6,\n        \"samples\": [\n          \"News\",\n          \"politics\",\n          \"Middle-east\"\n        ],\n        \"semantic_type\": \"\",\n        \"description\": \"\"\n      }\n    },\n    {\n      \"column\": \"date\",\n      \"properties\": {\n        \"dtype\": \"category\",\n        \"num_unique_values\": 1681,\n        \"samples\": [\n          \"Jun 5, 2015\",\n          \"August 28, 2016\",\n          \"June 3, 2017\"\n        ],\n        \"semantic_type\": \"\",\n        \"description\": \"\"\n      }\n    }\n  ]\n}"
            }
          },
          "metadata": {},
          "execution_count": 6
        }
      ],
      "source": [
        "fake_data.head()"
      ]
    },
    {
      "cell_type": "code",
      "execution_count": null,
      "metadata": {
        "execution": {
          "iopub.execute_input": "2022-10-01T14:22:27.470647Z",
          "iopub.status.busy": "2022-10-01T14:22:27.470425Z",
          "iopub.status.idle": "2022-10-01T14:22:27.481381Z",
          "shell.execute_reply": "2022-10-01T14:22:27.480738Z",
          "shell.execute_reply.started": "2022-10-01T14:22:27.470623Z"
        },
        "trusted": true,
        "id": "X70aSfb3fSNQ",
        "outputId": "8bec7e3f-ceba-4c84-c61f-2b00407adbb1"
      },
      "outputs": [
        {
          "data": {
            "text/html": [
              "<div>\n",
              "<style scoped>\n",
              "    .dataframe tbody tr th:only-of-type {\n",
              "        vertical-align: middle;\n",
              "    }\n",
              "\n",
              "    .dataframe tbody tr th {\n",
              "        vertical-align: top;\n",
              "    }\n",
              "\n",
              "    .dataframe thead th {\n",
              "        text-align: right;\n",
              "    }\n",
              "</style>\n",
              "<table border=\"1\" class=\"dataframe\">\n",
              "  <thead>\n",
              "    <tr style=\"text-align: right;\">\n",
              "      <th></th>\n",
              "      <th>title</th>\n",
              "      <th>text</th>\n",
              "      <th>subject</th>\n",
              "      <th>date</th>\n",
              "    </tr>\n",
              "  </thead>\n",
              "  <tbody>\n",
              "    <tr>\n",
              "      <th>0</th>\n",
              "      <td>As U.S. budget fight looms, Republicans flip t...</td>\n",
              "      <td>WASHINGTON (Reuters) - The head of a conservat...</td>\n",
              "      <td>politicsNews</td>\n",
              "      <td>December 31, 2017</td>\n",
              "    </tr>\n",
              "    <tr>\n",
              "      <th>1</th>\n",
              "      <td>U.S. military to accept transgender recruits o...</td>\n",
              "      <td>WASHINGTON (Reuters) - Transgender people will...</td>\n",
              "      <td>politicsNews</td>\n",
              "      <td>December 29, 2017</td>\n",
              "    </tr>\n",
              "    <tr>\n",
              "      <th>2</th>\n",
              "      <td>Senior U.S. Republican senator: 'Let Mr. Muell...</td>\n",
              "      <td>WASHINGTON (Reuters) - The special counsel inv...</td>\n",
              "      <td>politicsNews</td>\n",
              "      <td>December 31, 2017</td>\n",
              "    </tr>\n",
              "    <tr>\n",
              "      <th>3</th>\n",
              "      <td>FBI Russia probe helped by Australian diplomat...</td>\n",
              "      <td>WASHINGTON (Reuters) - Trump campaign adviser ...</td>\n",
              "      <td>politicsNews</td>\n",
              "      <td>December 30, 2017</td>\n",
              "    </tr>\n",
              "    <tr>\n",
              "      <th>4</th>\n",
              "      <td>Trump wants Postal Service to charge 'much mor...</td>\n",
              "      <td>SEATTLE/WASHINGTON (Reuters) - President Donal...</td>\n",
              "      <td>politicsNews</td>\n",
              "      <td>December 29, 2017</td>\n",
              "    </tr>\n",
              "  </tbody>\n",
              "</table>\n",
              "</div>"
            ],
            "text/plain": [
              "                                               title  \\\n",
              "0  As U.S. budget fight looms, Republicans flip t...   \n",
              "1  U.S. military to accept transgender recruits o...   \n",
              "2  Senior U.S. Republican senator: 'Let Mr. Muell...   \n",
              "3  FBI Russia probe helped by Australian diplomat...   \n",
              "4  Trump wants Postal Service to charge 'much mor...   \n",
              "\n",
              "                                                text       subject  \\\n",
              "0  WASHINGTON (Reuters) - The head of a conservat...  politicsNews   \n",
              "1  WASHINGTON (Reuters) - Transgender people will...  politicsNews   \n",
              "2  WASHINGTON (Reuters) - The special counsel inv...  politicsNews   \n",
              "3  WASHINGTON (Reuters) - Trump campaign adviser ...  politicsNews   \n",
              "4  SEATTLE/WASHINGTON (Reuters) - President Donal...  politicsNews   \n",
              "\n",
              "                 date  \n",
              "0  December 31, 2017   \n",
              "1  December 29, 2017   \n",
              "2  December 31, 2017   \n",
              "3  December 30, 2017   \n",
              "4  December 29, 2017   "
            ]
          },
          "execution_count": 6,
          "metadata": {},
          "output_type": "execute_result"
        }
      ],
      "source": [
        "real_data.head()"
      ]
    },
    {
      "cell_type": "code",
      "execution_count": null,
      "metadata": {
        "execution": {
          "iopub.execute_input": "2022-10-01T14:22:27.483599Z",
          "iopub.status.busy": "2022-10-01T14:22:27.482861Z",
          "iopub.status.idle": "2022-10-01T14:22:27.712975Z",
          "shell.execute_reply": "2022-10-01T14:22:27.712210Z",
          "shell.execute_reply.started": "2022-10-01T14:22:27.483565Z"
        },
        "trusted": true,
        "id": "KmryMzvcfSNQ",
        "outputId": "dfb80274-a0d4-45ed-cfb0-c88833f60b65"
      },
      "outputs": [
        {
          "data": {
            "image/png": "[encoded data removed]",
            "text/plain": [
              "<Figure size 432x288 with 1 Axes>"
            ]
          },
          "metadata": {
            "needs_background": "light"
          },
          "output_type": "display_data"
        }
      ],
      "source": [
        "real_data['subject'].value_counts().plot(kind='barh')\n",
        "rcParams['figure.figsize'] = 5,5\n"
      ]
    },
    {
      "cell_type": "code",
      "execution_count": null,
      "metadata": {
        "execution": {
          "iopub.execute_input": "2022-10-01T14:22:27.716027Z",
          "iopub.status.busy": "2022-10-01T14:22:27.715829Z",
          "iopub.status.idle": "2022-10-01T14:22:27.934196Z",
          "shell.execute_reply": "2022-10-01T14:22:27.933522Z",
          "shell.execute_reply.started": "2022-10-01T14:22:27.715997Z"
        },
        "trusted": true,
        "id": "vPMe8A9-fSNR",
        "outputId": "33bd2eb1-a769-4a44-d7c8-8592622405b3"
      },
      "outputs": [
        {
          "data": {
            "image/png": "[encoded data removed]",
            "text/plain": [
              "<Figure size 360x360 with 1 Axes>"
            ]
          },
          "metadata": {
            "needs_background": "light"
          },
          "output_type": "display_data"
        }
      ],
      "source": [
        "fake_data['subject'].value_counts().plot(kind='barh')\n",
        "rcParams['figure.figsize'] = 5,5"
      ]
    },
    {
      "cell_type": "code",
      "execution_count": null,
      "metadata": {
        "execution": {
          "iopub.execute_input": "2022-10-01T14:22:28.088182Z",
          "iopub.status.busy": "2022-10-01T14:22:28.087925Z",
          "iopub.status.idle": "2022-10-01T14:22:28.169432Z",
          "shell.execute_reply": "2022-10-01T14:22:28.168219Z",
          "shell.execute_reply.started": "2022-10-01T14:22:28.088151Z"
        },
        "trusted": true,
        "id": "Dp63kl4LfSNR"
      },
      "outputs": [],
      "source": [
        "wordcld_text=\" \".join(real_data[\"text\"].tolist())"
      ]
    },
    {
      "cell_type": "code",
      "execution_count": null,
      "metadata": {
        "execution": {
          "iopub.execute_input": "2022-10-01T14:23:03.768256Z",
          "iopub.status.busy": "2022-10-01T14:23:03.768031Z",
          "iopub.status.idle": "2022-10-01T14:23:03.817630Z",
          "shell.execute_reply": "2022-10-01T14:23:03.816777Z",
          "shell.execute_reply.started": "2022-10-01T14:23:03.768226Z"
        },
        "trusted": true,
        "id": "vSDpycYkfSNS"
      },
      "outputs": [],
      "source": [
        "fake_text=\" \".join(fake_data[\"text\"].tolist())"
      ]
    },
    {
      "cell_type": "code",
      "execution_count": null,
      "metadata": {
        "execution": {
          "iopub.execute_input": "2022-10-01T14:23:44.009197Z",
          "iopub.status.busy": "2022-10-01T14:23:44.008201Z",
          "iopub.status.idle": "2022-10-01T14:23:44.019384Z",
          "shell.execute_reply": "2022-10-01T14:23:44.018571Z",
          "shell.execute_reply.started": "2022-10-01T14:23:44.009153Z"
        },
        "trusted": true,
        "id": "x_ULjLUifSNS"
      },
      "outputs": [],
      "source": [
        "fake_data[\"label\"]=\"fake\"\n",
        "real_data[\"label\"]=\"real\""
      ]
    },
    {
      "cell_type": "code",
      "execution_count": null,
      "metadata": {
        "execution": {
          "iopub.execute_input": "2022-10-01T14:23:44.023212Z",
          "iopub.status.busy": "2022-10-01T14:23:44.022533Z",
          "iopub.status.idle": "2022-10-01T14:23:44.043367Z",
          "shell.execute_reply": "2022-10-01T14:23:44.042759Z",
          "shell.execute_reply.started": "2022-10-01T14:23:44.023175Z"
        },
        "trusted": true,
        "id": "QC29mf8jfSNT"
      },
      "outputs": [],
      "source": [
        "final_data= pd.concat([fake_data,real_data])"
      ]
    },
    {
      "cell_type": "code",
      "execution_count": null,
      "metadata": {
        "execution": {
          "iopub.execute_input": "2022-10-01T14:23:44.048927Z",
          "iopub.status.busy": "2022-10-01T14:23:44.047143Z",
          "iopub.status.idle": "2022-10-01T14:23:44.067191Z",
          "shell.execute_reply": "2022-10-01T14:23:44.066250Z",
          "shell.execute_reply.started": "2022-10-01T14:23:44.048885Z"
        },
        "trusted": true,
        "id": "E5-jZEOSfSNT"
      },
      "outputs": [],
      "source": [
        "final_data = final_data.sample(frac=1).reset_index(drop=True)"
      ]
    },
    {
      "cell_type": "code",
      "execution_count": null,
      "metadata": {
        "execution": {
          "iopub.execute_input": "2022-10-01T14:23:44.072707Z",
          "iopub.status.busy": "2022-10-01T14:23:44.070867Z",
          "iopub.status.idle": "2022-10-01T14:23:44.092479Z",
          "shell.execute_reply": "2022-10-01T14:23:44.091907Z",
          "shell.execute_reply.started": "2022-10-01T14:23:44.072641Z"
        },
        "trusted": true,
        "id": "WjvHa7K3fSNT",
        "outputId": "f0be3b7f-cbc7-4c0f-9fe2-26c2474cae1e"
      },
      "outputs": [
        {
          "data": {
            "text/html": [
              "<div>\n",
              "<style scoped>\n",
              "    .dataframe tbody tr th:only-of-type {\n",
              "        vertical-align: middle;\n",
              "    }\n",
              "\n",
              "    .dataframe tbody tr th {\n",
              "        vertical-align: top;\n",
              "    }\n",
              "\n",
              "    .dataframe thead th {\n",
              "        text-align: right;\n",
              "    }\n",
              "</style>\n",
              "<table border=\"1\" class=\"dataframe\">\n",
              "  <thead>\n",
              "    <tr style=\"text-align: right;\">\n",
              "      <th></th>\n",
              "      <th>title</th>\n",
              "      <th>text</th>\n",
              "      <th>subject</th>\n",
              "      <th>date</th>\n",
              "      <th>label</th>\n",
              "    </tr>\n",
              "  </thead>\n",
              "  <tbody>\n",
              "    <tr>\n",
              "      <th>0</th>\n",
              "      <td>Democrats face uphill fight if Trump gets seco...</td>\n",
              "      <td>WASHINGTON (Reuters) - If Democrats thought it...</td>\n",
              "      <td>politicsNews</td>\n",
              "      <td>April 11, 2017</td>\n",
              "      <td>real</td>\n",
              "    </tr>\n",
              "    <tr>\n",
              "      <th>1</th>\n",
              "      <td>Alabama governor to face impeachment push in s...</td>\n",
              "      <td>(Reuters) - Alabama Governor Robert Bentley wi...</td>\n",
              "      <td>politicsNews</td>\n",
              "      <td>April 5, 2016</td>\n",
              "      <td>real</td>\n",
              "    </tr>\n",
              "    <tr>\n",
              "      <th>2</th>\n",
              "      <td>Anonymous Just Declared ‘TOTAL WAR’ On Trump,...</td>\n",
              "      <td>Donald  Tiny Hands  Trump might be in for a bi...</td>\n",
              "      <td>News</td>\n",
              "      <td>March 15, 2016</td>\n",
              "      <td>fake</td>\n",
              "    </tr>\n",
              "    <tr>\n",
              "      <th>3</th>\n",
              "      <td>Trump says disappointed about collapse of Obam...</td>\n",
              "      <td>WASHINGTON (Reuters) - President Donald Trump ...</td>\n",
              "      <td>politicsNews</td>\n",
              "      <td>July 18, 2017</td>\n",
              "      <td>real</td>\n",
              "    </tr>\n",
              "    <tr>\n",
              "      <th>4</th>\n",
              "      <td>Algeria's ruling parties retain majority in lo...</td>\n",
              "      <td>ALGIERS (Reuters) - Algeria s ruling parties r...</td>\n",
              "      <td>worldnews</td>\n",
              "      <td>November 24, 2017</td>\n",
              "      <td>real</td>\n",
              "    </tr>\n",
              "    <tr>\n",
              "      <th>5</th>\n",
              "      <td>Putin, Saudi king, stress need to coordinate o...</td>\n",
              "      <td>MOSCOW (Reuters) - Russia s President Vladimir...</td>\n",
              "      <td>worldnews</td>\n",
              "      <td>November 21, 2017</td>\n",
              "      <td>real</td>\n",
              "    </tr>\n",
              "    <tr>\n",
              "      <th>6</th>\n",
              "      <td>Dem Senator Goes On HEARTWRENCHING Tweetstorm...</td>\n",
              "      <td>Donald the Trump went to speak at the NRA s an...</td>\n",
              "      <td>News</td>\n",
              "      <td>April 28, 2017</td>\n",
              "      <td>fake</td>\n",
              "    </tr>\n",
              "    <tr>\n",
              "      <th>7</th>\n",
              "      <td>Obama to seek $755 million for cancer 'moonsho...</td>\n",
              "      <td>WASHINGTON (Reuters) - President Barack Obama ...</td>\n",
              "      <td>politicsNews</td>\n",
              "      <td>February 1, 2016</td>\n",
              "      <td>real</td>\n",
              "    </tr>\n",
              "    <tr>\n",
              "      <th>8</th>\n",
              "      <td>Cowardly ESPN Won’t Stand Up For Black Report...</td>\n",
              "      <td>ESPN s Jemele Hill is one of the most influent...</td>\n",
              "      <td>News</td>\n",
              "      <td>September 13, 2017</td>\n",
              "      <td>fake</td>\n",
              "    </tr>\n",
              "    <tr>\n",
              "      <th>9</th>\n",
              "      <td>Pope arrives in Colombia to help heal wounds o...</td>\n",
              "      <td>BOGOTA (Reuters) - Pope Francis arrived in Col...</td>\n",
              "      <td>worldnews</td>\n",
              "      <td>September 6, 2017</td>\n",
              "      <td>real</td>\n",
              "    </tr>\n",
              "  </tbody>\n",
              "</table>\n",
              "</div>"
            ],
            "text/plain": [
              "                                               title  \\\n",
              "0  Democrats face uphill fight if Trump gets seco...   \n",
              "1  Alabama governor to face impeachment push in s...   \n",
              "2   Anonymous Just Declared ‘TOTAL WAR’ On Trump,...   \n",
              "3  Trump says disappointed about collapse of Obam...   \n",
              "4  Algeria's ruling parties retain majority in lo...   \n",
              "5  Putin, Saudi king, stress need to coordinate o...   \n",
              "6   Dem Senator Goes On HEARTWRENCHING Tweetstorm...   \n",
              "7  Obama to seek $755 million for cancer 'moonsho...   \n",
              "8   Cowardly ESPN Won’t Stand Up For Black Report...   \n",
              "9  Pope arrives in Colombia to help heal wounds o...   \n",
              "\n",
              "                                                text       subject  \\\n",
              "0  WASHINGTON (Reuters) - If Democrats thought it...  politicsNews   \n",
              "1  (Reuters) - Alabama Governor Robert Bentley wi...  politicsNews   \n",
              "2  Donald  Tiny Hands  Trump might be in for a bi...          News   \n",
              "3  WASHINGTON (Reuters) - President Donald Trump ...  politicsNews   \n",
              "4  ALGIERS (Reuters) - Algeria s ruling parties r...     worldnews   \n",
              "5  MOSCOW (Reuters) - Russia s President Vladimir...     worldnews   \n",
              "6  Donald the Trump went to speak at the NRA s an...          News   \n",
              "7  WASHINGTON (Reuters) - President Barack Obama ...  politicsNews   \n",
              "8  ESPN s Jemele Hill is one of the most influent...          News   \n",
              "9  BOGOTA (Reuters) - Pope Francis arrived in Col...     worldnews   \n",
              "\n",
              "                 date label  \n",
              "0     April 11, 2017   real  \n",
              "1      April 5, 2016   real  \n",
              "2      March 15, 2016  fake  \n",
              "3      July 18, 2017   real  \n",
              "4  November 24, 2017   real  \n",
              "5  November 21, 2017   real  \n",
              "6      April 28, 2017  fake  \n",
              "7   February 1, 2016   real  \n",
              "8  September 13, 2017  fake  \n",
              "9  September 6, 2017   real  "
            ]
          },
          "execution_count": 17,
          "metadata": {},
          "output_type": "execute_result"
        }
      ],
      "source": [
        "final_data.head(10)"
      ]
    },
    {
      "cell_type": "code",
      "execution_count": null,
      "metadata": {
        "execution": {
          "iopub.execute_input": "2022-10-01T14:23:44.097897Z",
          "iopub.status.busy": "2022-10-01T14:23:44.095804Z",
          "iopub.status.idle": "2022-10-01T14:23:44.127387Z",
          "shell.execute_reply": "2022-10-01T14:23:44.126705Z",
          "shell.execute_reply.started": "2022-10-01T14:23:44.096332Z"
        },
        "trusted": true,
        "id": "dW1EbkJFfSNU",
        "outputId": "48a68e26-a269-4993-d517-f3bcd00f2f54"
      },
      "outputs": [
        {
          "data": {
            "text/plain": [
              "title      0\n",
              "text       0\n",
              "subject    0\n",
              "date       0\n",
              "label      0\n",
              "dtype: int64"
            ]
          },
          "execution_count": 18,
          "metadata": {},
          "output_type": "execute_result"
        }
      ],
      "source": [
        "final_data.isnull().sum()"
      ]
    },
    {
      "cell_type": "code",
      "execution_count": null,
      "metadata": {
        "execution": {
          "iopub.execute_input": "2022-10-01T14:23:44.133016Z",
          "iopub.status.busy": "2022-10-01T14:23:44.130894Z",
          "iopub.status.idle": "2022-10-01T14:23:44.155077Z",
          "shell.execute_reply": "2022-10-01T14:23:44.154391Z",
          "shell.execute_reply.started": "2022-10-01T14:23:44.132978Z"
        },
        "trusted": true,
        "id": "12-YDh1PfSNV",
        "outputId": "30e80398-aba0-4751-aa8e-e6fdf20da371"
      },
      "outputs": [
        {
          "data": {
            "text/html": [
              "<div>\n",
              "<style scoped>\n",
              "    .dataframe tbody tr th:only-of-type {\n",
              "        vertical-align: middle;\n",
              "    }\n",
              "\n",
              "    .dataframe tbody tr th {\n",
              "        vertical-align: top;\n",
              "    }\n",
              "\n",
              "    .dataframe thead th {\n",
              "        text-align: right;\n",
              "    }\n",
              "</style>\n",
              "<table border=\"1\" class=\"dataframe\">\n",
              "  <thead>\n",
              "    <tr style=\"text-align: right;\">\n",
              "      <th></th>\n",
              "      <th>title</th>\n",
              "      <th>text</th>\n",
              "      <th>label</th>\n",
              "    </tr>\n",
              "  </thead>\n",
              "  <tbody>\n",
              "    <tr>\n",
              "      <th>0</th>\n",
              "      <td>Democrats face uphill fight if Trump gets seco...</td>\n",
              "      <td>WASHINGTON (Reuters) - If Democrats thought it...</td>\n",
              "      <td>real</td>\n",
              "    </tr>\n",
              "    <tr>\n",
              "      <th>1</th>\n",
              "      <td>Alabama governor to face impeachment push in s...</td>\n",
              "      <td>(Reuters) - Alabama Governor Robert Bentley wi...</td>\n",
              "      <td>real</td>\n",
              "    </tr>\n",
              "    <tr>\n",
              "      <th>2</th>\n",
              "      <td>Anonymous Just Declared ‘TOTAL WAR’ On Trump,...</td>\n",
              "      <td>Donald  Tiny Hands  Trump might be in for a bi...</td>\n",
              "      <td>fake</td>\n",
              "    </tr>\n",
              "    <tr>\n",
              "      <th>3</th>\n",
              "      <td>Trump says disappointed about collapse of Obam...</td>\n",
              "      <td>WASHINGTON (Reuters) - President Donald Trump ...</td>\n",
              "      <td>real</td>\n",
              "    </tr>\n",
              "    <tr>\n",
              "      <th>4</th>\n",
              "      <td>Algeria's ruling parties retain majority in lo...</td>\n",
              "      <td>ALGIERS (Reuters) - Algeria s ruling parties r...</td>\n",
              "      <td>real</td>\n",
              "    </tr>\n",
              "    <tr>\n",
              "      <th>...</th>\n",
              "      <td>...</td>\n",
              "      <td>...</td>\n",
              "      <td>...</td>\n",
              "    </tr>\n",
              "    <tr>\n",
              "      <th>44893</th>\n",
              "      <td>Delusional ‘Dilbert’ Cartoonist Thinks He’ll ...</td>\n",
              "      <td>Scott Adams, who s best known as the creator o...</td>\n",
              "      <td>fake</td>\n",
              "    </tr>\n",
              "    <tr>\n",
              "      <th>44894</th>\n",
              "      <td>Swiss right-wing's Blocher: Trump win a warnin...</td>\n",
              "      <td>ZURICH (Reuters) - Donald Trump’s U.S. electio...</td>\n",
              "      <td>real</td>\n",
              "    </tr>\n",
              "    <tr>\n",
              "      <th>44895</th>\n",
              "      <td>FOX NEWS REPORTER ASKS MAYOR Why She’s Using T...</td>\n",
              "      <td>The drip drip drip of the Left ensuring Christ...</td>\n",
              "      <td>fake</td>\n",
              "    </tr>\n",
              "    <tr>\n",
              "      <th>44896</th>\n",
              "      <td>John Kerry: Carnival should not bar Cuban-Amer...</td>\n",
              "      <td>MIAMI (Reuters) - U.S. Secretary of State John...</td>\n",
              "      <td>real</td>\n",
              "    </tr>\n",
              "    <tr>\n",
              "      <th>44897</th>\n",
              "      <td>Taliban shut down clinics in southern Afghan p...</td>\n",
              "      <td>KANDAHAR, Afghanistan (Reuters) - The Taliban ...</td>\n",
              "      <td>real</td>\n",
              "    </tr>\n",
              "  </tbody>\n",
              "</table>\n",
              "<p>44898 rows × 3 columns</p>\n",
              "</div>"
            ],
            "text/plain": [
              "                                                   title  \\\n",
              "0      Democrats face uphill fight if Trump gets seco...   \n",
              "1      Alabama governor to face impeachment push in s...   \n",
              "2       Anonymous Just Declared ‘TOTAL WAR’ On Trump,...   \n",
              "3      Trump says disappointed about collapse of Obam...   \n",
              "4      Algeria's ruling parties retain majority in lo...   \n",
              "...                                                  ...   \n",
              "44893   Delusional ‘Dilbert’ Cartoonist Thinks He’ll ...   \n",
              "44894  Swiss right-wing's Blocher: Trump win a warnin...   \n",
              "44895  FOX NEWS REPORTER ASKS MAYOR Why She’s Using T...   \n",
              "44896  John Kerry: Carnival should not bar Cuban-Amer...   \n",
              "44897  Taliban shut down clinics in southern Afghan p...   \n",
              "\n",
              "                                                    text label  \n",
              "0      WASHINGTON (Reuters) - If Democrats thought it...  real  \n",
              "1      (Reuters) - Alabama Governor Robert Bentley wi...  real  \n",
              "2      Donald  Tiny Hands  Trump might be in for a bi...  fake  \n",
              "3      WASHINGTON (Reuters) - President Donald Trump ...  real  \n",
              "4      ALGIERS (Reuters) - Algeria s ruling parties r...  real  \n",
              "...                                                  ...   ...  \n",
              "44893  Scott Adams, who s best known as the creator o...  fake  \n",
              "44894  ZURICH (Reuters) - Donald Trump’s U.S. electio...  real  \n",
              "44895  The drip drip drip of the Left ensuring Christ...  fake  \n",
              "44896  MIAMI (Reuters) - U.S. Secretary of State John...  real  \n",
              "44897  KANDAHAR, Afghanistan (Reuters) - The Taliban ...  real  \n",
              "\n",
              "[44898 rows x 3 columns]"
            ]
          },
          "execution_count": 19,
          "metadata": {},
          "output_type": "execute_result"
        }
      ],
      "source": [
        "final_data.drop([\"subject\",\"date\"], axis=1)"
      ]
    },
    {
      "cell_type": "code",
      "execution_count": null,
      "metadata": {
        "execution": {
          "iopub.execute_input": "2022-10-01T14:23:44.160289Z",
          "iopub.status.busy": "2022-10-01T14:23:44.158205Z",
          "iopub.status.idle": "2022-10-01T14:23:44.176911Z",
          "shell.execute_reply": "2022-10-01T14:23:44.176310Z",
          "shell.execute_reply.started": "2022-10-01T14:23:44.160215Z"
        },
        "trusted": true,
        "id": "76KLQfWifSNV",
        "outputId": "91a7e49e-99ca-47fe-deac-3282fd7640a1"
      },
      "outputs": [
        {
          "data": {
            "text/html": [
              "<div>\n",
              "<style scoped>\n",
              "    .dataframe tbody tr th:only-of-type {\n",
              "        vertical-align: middle;\n",
              "    }\n",
              "\n",
              "    .dataframe tbody tr th {\n",
              "        vertical-align: top;\n",
              "    }\n",
              "\n",
              "    .dataframe thead th {\n",
              "        text-align: right;\n",
              "    }\n",
              "</style>\n",
              "<table border=\"1\" class=\"dataframe\">\n",
              "  <thead>\n",
              "    <tr style=\"text-align: right;\">\n",
              "      <th></th>\n",
              "      <th>title</th>\n",
              "      <th>text</th>\n",
              "      <th>subject</th>\n",
              "      <th>date</th>\n",
              "      <th>label</th>\n",
              "    </tr>\n",
              "  </thead>\n",
              "  <tbody>\n",
              "    <tr>\n",
              "      <th>0</th>\n",
              "      <td>Democrats face uphill fight if Trump gets seco...</td>\n",
              "      <td>WASHINGTON (Reuters) - If Democrats thought it...</td>\n",
              "      <td>politicsNews</td>\n",
              "      <td>April 11, 2017</td>\n",
              "      <td>real</td>\n",
              "    </tr>\n",
              "    <tr>\n",
              "      <th>1</th>\n",
              "      <td>Alabama governor to face impeachment push in s...</td>\n",
              "      <td>(Reuters) - Alabama Governor Robert Bentley wi...</td>\n",
              "      <td>politicsNews</td>\n",
              "      <td>April 5, 2016</td>\n",
              "      <td>real</td>\n",
              "    </tr>\n",
              "    <tr>\n",
              "      <th>2</th>\n",
              "      <td>Anonymous Just Declared ‘TOTAL WAR’ On Trump,...</td>\n",
              "      <td>Donald  Tiny Hands  Trump might be in for a bi...</td>\n",
              "      <td>News</td>\n",
              "      <td>March 15, 2016</td>\n",
              "      <td>fake</td>\n",
              "    </tr>\n",
              "    <tr>\n",
              "      <th>3</th>\n",
              "      <td>Trump says disappointed about collapse of Obam...</td>\n",
              "      <td>WASHINGTON (Reuters) - President Donald Trump ...</td>\n",
              "      <td>politicsNews</td>\n",
              "      <td>July 18, 2017</td>\n",
              "      <td>real</td>\n",
              "    </tr>\n",
              "    <tr>\n",
              "      <th>4</th>\n",
              "      <td>Algeria's ruling parties retain majority in lo...</td>\n",
              "      <td>ALGIERS (Reuters) - Algeria s ruling parties r...</td>\n",
              "      <td>worldnews</td>\n",
              "      <td>November 24, 2017</td>\n",
              "      <td>real</td>\n",
              "    </tr>\n",
              "  </tbody>\n",
              "</table>\n",
              "</div>"
            ],
            "text/plain": [
              "                                               title  \\\n",
              "0  Democrats face uphill fight if Trump gets seco...   \n",
              "1  Alabama governor to face impeachment push in s...   \n",
              "2   Anonymous Just Declared ‘TOTAL WAR’ On Trump,...   \n",
              "3  Trump says disappointed about collapse of Obam...   \n",
              "4  Algeria's ruling parties retain majority in lo...   \n",
              "\n",
              "                                                text       subject  \\\n",
              "0  WASHINGTON (Reuters) - If Democrats thought it...  politicsNews   \n",
              "1  (Reuters) - Alabama Governor Robert Bentley wi...  politicsNews   \n",
              "2  Donald  Tiny Hands  Trump might be in for a bi...          News   \n",
              "3  WASHINGTON (Reuters) - President Donald Trump ...  politicsNews   \n",
              "4  ALGIERS (Reuters) - Algeria s ruling parties r...     worldnews   \n",
              "\n",
              "                 date label  \n",
              "0     April 11, 2017   real  \n",
              "1      April 5, 2016   real  \n",
              "2      March 15, 2016  fake  \n",
              "3      July 18, 2017   real  \n",
              "4  November 24, 2017   real  "
            ]
          },
          "execution_count": 20,
          "metadata": {},
          "output_type": "execute_result"
        }
      ],
      "source": [
        "final_data.head()"
      ]
    },
    {
      "cell_type": "code",
      "execution_count": null,
      "metadata": {
        "execution": {
          "iopub.execute_input": "2022-10-01T14:23:44.180376Z",
          "iopub.status.busy": "2022-10-01T14:23:44.180019Z",
          "iopub.status.idle": "2022-10-01T14:23:44.198760Z",
          "shell.execute_reply": "2022-10-01T14:23:44.198054Z",
          "shell.execute_reply.started": "2022-10-01T14:23:44.180343Z"
        },
        "trusted": true,
        "id": "RBkWoxo-fSNW",
        "outputId": "e7399751-bc53-487d-f9cc-6d95a6f9b072"
      },
      "outputs": [
        {
          "data": {
            "text/plain": [
              "fake    23481\n",
              "real    21417\n",
              "Name: label, dtype: int64"
            ]
          },
          "execution_count": 21,
          "metadata": {},
          "output_type": "execute_result"
        }
      ],
      "source": [
        "final_data.label.value_counts()"
      ]
    },
    {
      "cell_type": "code",
      "execution_count": null,
      "metadata": {
        "execution": {
          "iopub.execute_input": "2022-10-01T14:23:44.202743Z",
          "iopub.status.busy": "2022-10-01T14:23:44.202362Z",
          "iopub.status.idle": "2022-10-01T14:23:44.498006Z",
          "shell.execute_reply": "2022-10-01T14:23:44.497294Z",
          "shell.execute_reply.started": "2022-10-01T14:23:44.202711Z"
        },
        "trusted": true,
        "id": "3LWWLzibfSNW",
        "outputId": "c92c1109-b876-4852-dd26-d5d401e47b97"
      },
      "outputs": [
        {
          "data": {
            "text/plain": [
              "<AxesSubplot:xlabel='label', ylabel='count'>"
            ]
          },
          "execution_count": 22,
          "metadata": {},
          "output_type": "execute_result"
        },
        {
          "data": {
            "image/png": "[encoded data removed]",
            "text/plain": [
              "<Figure size 360x360 with 1 Axes>"
            ]
          },
          "metadata": {},
          "output_type": "display_data"
        }
      ],
      "source": [
        "sns.set_theme(style=\"whitegrid\")\n",
        "sns.countplot(x=final_data[\"label\"])"
      ]
    },
    {
      "cell_type": "code",
      "execution_count": null,
      "metadata": {
        "execution": {
          "iopub.execute_input": "2022-10-01T14:23:44.499733Z",
          "iopub.status.busy": "2022-10-01T14:23:44.499325Z",
          "iopub.status.idle": "2022-10-01T14:23:44.513506Z",
          "shell.execute_reply": "2022-10-01T14:23:44.512585Z",
          "shell.execute_reply.started": "2022-10-01T14:23:44.499696Z"
        },
        "trusted": true,
        "id": "vjL8wBY4fSNW",
        "outputId": "a1380b78-b503-4c32-efaa-2ba588ea2ab5"
      },
      "outputs": [
        {
          "data": {
            "text/html": [
              "<div>\n",
              "<style scoped>\n",
              "    .dataframe tbody tr th:only-of-type {\n",
              "        vertical-align: middle;\n",
              "    }\n",
              "\n",
              "    .dataframe tbody tr th {\n",
              "        vertical-align: top;\n",
              "    }\n",
              "\n",
              "    .dataframe thead th {\n",
              "        text-align: right;\n",
              "    }\n",
              "</style>\n",
              "<table border=\"1\" class=\"dataframe\">\n",
              "  <thead>\n",
              "    <tr style=\"text-align: right;\">\n",
              "      <th></th>\n",
              "      <th>title</th>\n",
              "      <th>text</th>\n",
              "      <th>subject</th>\n",
              "      <th>date</th>\n",
              "      <th>label</th>\n",
              "    </tr>\n",
              "  </thead>\n",
              "  <tbody>\n",
              "    <tr>\n",
              "      <th>0</th>\n",
              "      <td>Democrats face uphill fight if Trump gets seco...</td>\n",
              "      <td>WASHINGTON (Reuters) - If Democrats thought it...</td>\n",
              "      <td>politicsNews</td>\n",
              "      <td>April 11, 2017</td>\n",
              "      <td>real</td>\n",
              "    </tr>\n",
              "    <tr>\n",
              "      <th>1</th>\n",
              "      <td>Alabama governor to face impeachment push in s...</td>\n",
              "      <td>(Reuters) - Alabama Governor Robert Bentley wi...</td>\n",
              "      <td>politicsNews</td>\n",
              "      <td>April 5, 2016</td>\n",
              "      <td>real</td>\n",
              "    </tr>\n",
              "    <tr>\n",
              "      <th>2</th>\n",
              "      <td>Anonymous Just Declared ‘TOTAL WAR’ On Trump,...</td>\n",
              "      <td>Donald  Tiny Hands  Trump might be in for a bi...</td>\n",
              "      <td>News</td>\n",
              "      <td>March 15, 2016</td>\n",
              "      <td>fake</td>\n",
              "    </tr>\n",
              "    <tr>\n",
              "      <th>3</th>\n",
              "      <td>Trump says disappointed about collapse of Obam...</td>\n",
              "      <td>WASHINGTON (Reuters) - President Donald Trump ...</td>\n",
              "      <td>politicsNews</td>\n",
              "      <td>July 18, 2017</td>\n",
              "      <td>real</td>\n",
              "    </tr>\n",
              "    <tr>\n",
              "      <th>4</th>\n",
              "      <td>Algeria's ruling parties retain majority in lo...</td>\n",
              "      <td>ALGIERS (Reuters) - Algeria s ruling parties r...</td>\n",
              "      <td>worldnews</td>\n",
              "      <td>November 24, 2017</td>\n",
              "      <td>real</td>\n",
              "    </tr>\n",
              "  </tbody>\n",
              "</table>\n",
              "</div>"
            ],
            "text/plain": [
              "                                               title  \\\n",
              "0  Democrats face uphill fight if Trump gets seco...   \n",
              "1  Alabama governor to face impeachment push in s...   \n",
              "2   Anonymous Just Declared ‘TOTAL WAR’ On Trump,...   \n",
              "3  Trump says disappointed about collapse of Obam...   \n",
              "4  Algeria's ruling parties retain majority in lo...   \n",
              "\n",
              "                                                text       subject  \\\n",
              "0  WASHINGTON (Reuters) - If Democrats thought it...  politicsNews   \n",
              "1  (Reuters) - Alabama Governor Robert Bentley wi...  politicsNews   \n",
              "2  Donald  Tiny Hands  Trump might be in for a bi...          News   \n",
              "3  WASHINGTON (Reuters) - President Donald Trump ...  politicsNews   \n",
              "4  ALGIERS (Reuters) - Algeria s ruling parties r...     worldnews   \n",
              "\n",
              "                 date label  \n",
              "0     April 11, 2017   real  \n",
              "1      April 5, 2016   real  \n",
              "2      March 15, 2016  fake  \n",
              "3      July 18, 2017   real  \n",
              "4  November 24, 2017   real  "
            ]
          },
          "execution_count": 23,
          "metadata": {},
          "output_type": "execute_result"
        }
      ],
      "source": [
        "final_data.head(5)"
      ]
    },
    {
      "cell_type": "code",
      "execution_count": null,
      "metadata": {
        "execution": {
          "iopub.execute_input": "2022-10-01T14:23:44.516540Z",
          "iopub.status.busy": "2022-10-01T14:23:44.516343Z",
          "iopub.status.idle": "2022-10-01T14:23:44.670132Z",
          "shell.execute_reply": "2022-10-01T14:23:44.669385Z",
          "shell.execute_reply.started": "2022-10-01T14:23:44.516517Z"
        },
        "trusted": true,
        "id": "CLXnUSN-fSNW"
      },
      "outputs": [],
      "source": [
        "final_data[\"text\"]=final_data[\"title\"]+final_data[\"text\"]"
      ]
    },
    {
      "cell_type": "code",
      "execution_count": null,
      "metadata": {
        "execution": {
          "iopub.execute_input": "2022-10-01T14:23:44.671460Z",
          "iopub.status.busy": "2022-10-01T14:23:44.671206Z",
          "iopub.status.idle": "2022-10-01T14:23:44.680404Z",
          "shell.execute_reply": "2022-10-01T14:23:44.679636Z",
          "shell.execute_reply.started": "2022-10-01T14:23:44.671427Z"
        },
        "trusted": true,
        "id": "li3LF7QIfSNW"
      },
      "outputs": [],
      "source": [
        "final_data=final_data[[\"text\",\"label\"]]"
      ]
    },
    {
      "cell_type": "code",
      "execution_count": null,
      "metadata": {
        "execution": {
          "iopub.execute_input": "2022-10-01T14:23:44.682113Z",
          "iopub.status.busy": "2022-10-01T14:23:44.681856Z",
          "iopub.status.idle": "2022-10-01T14:23:44.695141Z",
          "shell.execute_reply": "2022-10-01T14:23:44.694264Z",
          "shell.execute_reply.started": "2022-10-01T14:23:44.682081Z"
        },
        "trusted": true,
        "id": "KgIg7cS1fSNX"
      },
      "outputs": [],
      "source": [
        "final_data['label'] = final_data['label'].map({'real':1, 'fake':0})"
      ]
    },
    {
      "cell_type": "code",
      "execution_count": null,
      "metadata": {
        "execution": {
          "iopub.execute_input": "2022-10-01T14:23:44.696537Z",
          "iopub.status.busy": "2022-10-01T14:23:44.696275Z",
          "iopub.status.idle": "2022-10-01T14:23:44.707594Z",
          "shell.execute_reply": "2022-10-01T14:23:44.706720Z",
          "shell.execute_reply.started": "2022-10-01T14:23:44.696496Z"
        },
        "trusted": true,
        "id": "tRZcsRH0fSNZ",
        "outputId": "65de12b4-4b85-4dd3-bdf7-a9a957353621"
      },
      "outputs": [
        {
          "data": {
            "text/html": [
              "<div>\n",
              "<style scoped>\n",
              "    .dataframe tbody tr th:only-of-type {\n",
              "        vertical-align: middle;\n",
              "    }\n",
              "\n",
              "    .dataframe tbody tr th {\n",
              "        vertical-align: top;\n",
              "    }\n",
              "\n",
              "    .dataframe thead th {\n",
              "        text-align: right;\n",
              "    }\n",
              "</style>\n",
              "<table border=\"1\" class=\"dataframe\">\n",
              "  <thead>\n",
              "    <tr style=\"text-align: right;\">\n",
              "      <th></th>\n",
              "      <th>text</th>\n",
              "      <th>label</th>\n",
              "    </tr>\n",
              "  </thead>\n",
              "  <tbody>\n",
              "    <tr>\n",
              "      <th>13555</th>\n",
              "      <td>Bernie Sanders Could End Up Winning Iowa21st C...</td>\n",
              "      <td>0</td>\n",
              "    </tr>\n",
              "    <tr>\n",
              "      <th>28744</th>\n",
              "      <td>For The 7th Year, Every Urban Prep Graduate A...</td>\n",
              "      <td>0</td>\n",
              "    </tr>\n",
              "    <tr>\n",
              "      <th>24793</th>\n",
              "      <td>South Korea finds traces of radioactive gas, '...</td>\n",
              "      <td>1</td>\n",
              "    </tr>\n",
              "    <tr>\n",
              "      <th>11678</th>\n",
              "      <td>Alabama Supreme Court SHOCKS Conservatives Wi...</td>\n",
              "      <td>0</td>\n",
              "    </tr>\n",
              "    <tr>\n",
              "      <th>18707</th>\n",
              "      <td>‘Vote All You Want, The Secret Government Won’...</td>\n",
              "      <td>0</td>\n",
              "    </tr>\n",
              "  </tbody>\n",
              "</table>\n",
              "</div>"
            ],
            "text/plain": [
              "                                                    text  label\n",
              "13555  Bernie Sanders Could End Up Winning Iowa21st C...      0\n",
              "28744   For The 7th Year, Every Urban Prep Graduate A...      0\n",
              "24793  South Korea finds traces of radioactive gas, '...      1\n",
              "11678   Alabama Supreme Court SHOCKS Conservatives Wi...      0\n",
              "18707  ‘Vote All You Want, The Secret Government Won’...      0"
            ]
          },
          "execution_count": 27,
          "metadata": {},
          "output_type": "execute_result"
        }
      ],
      "source": [
        "final_data.sample(5)"
      ]
    },
    {
      "cell_type": "code",
      "execution_count": null,
      "metadata": {
        "execution": {
          "iopub.execute_input": "2022-10-01T14:23:44.712547Z",
          "iopub.status.busy": "2022-10-01T14:23:44.712339Z",
          "iopub.status.idle": "2022-10-01T14:23:44.719766Z",
          "shell.execute_reply": "2022-10-01T14:23:44.718965Z",
          "shell.execute_reply.started": "2022-10-01T14:23:44.712509Z"
        },
        "trusted": true,
        "id": "rFB3iLHrfSNZ",
        "outputId": "8bb5da80-989a-4162-a249-768f8f6cbf73"
      },
      "outputs": [
        {
          "data": {
            "text/plain": [
              "0"
            ]
          },
          "execution_count": 28,
          "metadata": {},
          "output_type": "execute_result"
        }
      ],
      "source": [
        "final_data.label[9943]"
      ]
    },
    {
      "cell_type": "code",
      "execution_count": null,
      "metadata": {
        "execution": {
          "iopub.execute_input": "2022-10-01T14:23:44.721373Z",
          "iopub.status.busy": "2022-10-01T14:23:44.721114Z",
          "iopub.status.idle": "2022-10-01T14:23:44.727927Z",
          "shell.execute_reply": "2022-10-01T14:23:44.727159Z",
          "shell.execute_reply.started": "2022-10-01T14:23:44.721340Z"
        },
        "trusted": true,
        "id": "M0ycAsFSfSNZ",
        "outputId": "97965e40-21ee-4a71-c047-c3b80788a42c"
      },
      "outputs": [
        {
          "data": {
            "text/plain": [
              "' Trump Just Got Caught Trying To Blackmail Morning Joe HostsBlackmail is a crime. It s time to impeach Donald Trump.Despite a desperate effort by the White House to deny it, Trump derailed those efforts by posting on Twitter Friday morning.In response to a Washington Post story in which Joe Scarborough and Mika Brzezinski claim that Trump tried to blackmail them in order to force them to apologize by promising to stop a National Enquirer tabloid story about the pair if they complied with his demands, Trump went on Twitter and confirmed the whole thing.Watched low rated @Morning_Joe for first time in long time. FAKE NEWS. He called me to stop a National Enquirer article. I said no! Bad show  Donald J. Trump (@realDonaldTrump) June 30, 2017The problem for Trump is that while he claims Scarborough called him and he s the one who said no, Scarborough has actual evidence to support his side of the story and he informed Trump of that on Twitter while calling him out for lying at the same time.Yet another lie. I have texts from your top aides and phone records. Also, those records show I haven t spoken with you in many months. https://t.co/TZWiElo6Gs  Joe Scarborough (@JoeNBC) June 30, 2017Why do you keep lying about things that are so easily disproven? What is wrong with you? https://t.co/aAoUj5HYZS  Joe Scarborough (@JoeNBC) June 30, 2017So Trump not only lied again, he literally tried to use blackmail against members of the media. It s all the more credible since the owner of the National Enquirer is David Pecker, a longtime friend of Trump s.If anyone should be apologizing to someone, it s Trump. What he said about Brzezinski on Thursday was totally deplorable and completely beneath the dignity of the office he holds.As you recall, Trump attacked the Morning Joe hosts for criticizing him earlier in the week by claiming that Mika was  bleeding badly from a face-lift  and that she is  crazy. I heard poorly rated @Morning_Joe speaks badly of me (don t watch anymore). Then how come low I.Q. Crazy Mika, along with Psycho Joe, came..  Donald J. Trump (@realDonaldTrump) June 29, 2017 to Mar-a-Lago 3 nights in a row around New Year s Eve, and insisted on joining me. She was bleeding badly from a face-lift. I said no!  Donald J. Trump (@realDonaldTrump) June 29, 2017All Trump had to do is ignore their rightful criticisms. Instead, he lashed out because he has thin skin and a vulnerable ego and made things worse by trying to blackmail them. That s the very definition of abuse of power.This national circus has to be put to an end. Trump s crimes in office far exceed Richard Nixon s during Watergate. Trump should be sitting in prison, not in the Oval Office.Featured image via Chip Somodevilla/Getty Images'"
            ]
          },
          "execution_count": 29,
          "metadata": {},
          "output_type": "execute_result"
        }
      ],
      "source": [
        "final_data.text[36709]"
      ]
    },
    {
      "cell_type": "code",
      "execution_count": null,
      "metadata": {
        "execution": {
          "iopub.execute_input": "2022-10-01T14:23:44.729977Z",
          "iopub.status.busy": "2022-10-01T14:23:44.729208Z",
          "iopub.status.idle": "2022-10-01T14:23:44.736289Z",
          "shell.execute_reply": "2022-10-01T14:23:44.735729Z",
          "shell.execute_reply.started": "2022-10-01T14:23:44.729942Z"
        },
        "trusted": true,
        "id": "K0wz5m69fSNZ"
      },
      "outputs": [],
      "source": [
        "max_len=100\n",
        "data_text=final_data[\"text\"]\n",
        "data_label=final_data[\"label\"]\n"
      ]
    },
    {
      "cell_type": "code",
      "execution_count": null,
      "metadata": {
        "execution": {
          "iopub.execute_input": "2022-10-01T14:23:44.738893Z",
          "iopub.status.busy": "2022-10-01T14:23:44.737313Z",
          "iopub.status.idle": "2022-10-01T14:23:49.278543Z",
          "shell.execute_reply": "2022-10-01T14:23:49.277886Z",
          "shell.execute_reply.started": "2022-10-01T14:23:44.738860Z"
        },
        "trusted": true,
        "id": "vW7zf2AXfSNZ"
      },
      "outputs": [],
      "source": [
        "bert_tokenizer = BertTokenizer.from_pretrained(\"bert-base-uncased\")\n"
      ]
    },
    {
      "cell_type": "code",
      "execution_count": null,
      "metadata": {
        "execution": {
          "iopub.execute_input": "2022-10-01T14:23:49.280106Z",
          "iopub.status.busy": "2022-10-01T14:23:49.279762Z",
          "iopub.status.idle": "2022-10-01T14:24:14.304696Z",
          "shell.execute_reply": "2022-10-01T14:24:14.303956Z",
          "shell.execute_reply.started": "2022-10-01T14:23:49.280069Z"
        },
        "trusted": true,
        "id": "nQ-PNVlofSNa"
      },
      "outputs": [],
      "source": [
        "bert_model = TFBertModel.from_pretrained('bert-base-uncased')"
      ]
    },
    {
      "cell_type": "code",
      "execution_count": null,
      "metadata": {
        "execution": {
          "iopub.execute_input": "2022-10-01T14:24:14.306801Z",
          "iopub.status.busy": "2022-10-01T14:24:14.306258Z",
          "iopub.status.idle": "2022-10-01T14:24:17.118960Z",
          "shell.execute_reply": "2022-10-01T14:24:17.118090Z",
          "shell.execute_reply.started": "2022-10-01T14:24:14.306761Z"
        },
        "trusted": true,
        "id": "bBErc-K3fSNa"
      },
      "outputs": [],
      "source": [
        "tokenizer = AutoTokenizer.from_pretrained('bert-base-uncased')"
      ]
    },
    {
      "cell_type": "code",
      "execution_count": null,
      "metadata": {
        "execution": {
          "iopub.execute_input": "2022-10-01T14:24:17.125008Z",
          "iopub.status.busy": "2022-10-01T14:24:17.123107Z",
          "iopub.status.idle": "2022-10-01T14:24:17.172210Z",
          "shell.execute_reply": "2022-10-01T14:24:17.171494Z",
          "shell.execute_reply.started": "2022-10-01T14:24:17.124967Z"
        },
        "trusted": true,
        "id": "14SZHsT1fSNa"
      },
      "outputs": [],
      "source": [
        "X_train, X_test, Y_train, Y_test = train_test_split(data_text, data_label, stratify = data_label, test_size = 0.2, random_state =42)"
      ]
    },
    {
      "cell_type": "code",
      "execution_count": null,
      "metadata": {
        "execution": {
          "iopub.execute_input": "2022-10-01T14:24:17.177503Z",
          "iopub.status.busy": "2022-10-01T14:24:17.175747Z",
          "iopub.status.idle": "2022-10-01T14:24:17.184218Z",
          "shell.execute_reply": "2022-10-01T14:24:17.183266Z",
          "shell.execute_reply.started": "2022-10-01T14:24:17.177466Z"
        },
        "trusted": true,
        "id": "AaQvfh9BfSNa"
      },
      "outputs": [],
      "source": [
        "def tokenize(X):\n",
        "\n",
        "    X = bert_tokenizer(\n",
        "        text = list(X),\n",
        "        add_special_tokens = True,\n",
        "        max_length = 100,\n",
        "        truncation = True,\n",
        "        padding = 'max_length',\n",
        "        return_tensors = 'tf',\n",
        "        return_token_type_ids = False,\n",
        "        return_attention_mask = True,\n",
        "        verbose = True\n",
        "        )\n",
        "    return X"
      ]
    },
    {
      "cell_type": "code",
      "execution_count": null,
      "metadata": {
        "execution": {
          "iopub.execute_input": "2022-10-01T14:24:17.190492Z",
          "iopub.status.busy": "2022-10-01T14:24:17.188237Z",
          "iopub.status.idle": "2022-10-01T14:33:59.098695Z",
          "shell.execute_reply": "2022-10-01T14:33:59.097677Z",
          "shell.execute_reply.started": "2022-10-01T14:24:17.190456Z"
        },
        "trusted": true,
        "id": "7Aaemg3TfSNa"
      },
      "outputs": [],
      "source": [
        "X_train_token = tokenize(X_train)\n",
        "X_test_token = tokenize(X_test)"
      ]
    },
    {
      "cell_type": "code",
      "execution_count": null,
      "metadata": {
        "execution": {
          "iopub.execute_input": "2022-10-01T14:33:59.100722Z",
          "iopub.status.busy": "2022-10-01T14:33:59.100412Z",
          "iopub.status.idle": "2022-10-01T14:33:59.105731Z",
          "shell.execute_reply": "2022-10-01T14:33:59.104538Z",
          "shell.execute_reply.started": "2022-10-01T14:33:59.100681Z"
        },
        "trusted": true,
        "id": "4aFJYE7yfSNa"
      },
      "outputs": [],
      "source": [
        "maxlen=100"
      ]
    },
    {
      "cell_type": "markdown",
      "metadata": {
        "id": "KOYCk4oFfSNb"
      },
      "source": [
        "##Creating BERT Model\n",
        "\n",
        "\n",
        "\n",
        "\n",
        "\n"
      ]
    },
    {
      "cell_type": "code",
      "execution_count": null,
      "metadata": {
        "execution": {
          "iopub.execute_input": "2022-10-01T14:33:59.107559Z",
          "iopub.status.busy": "2022-10-01T14:33:59.107251Z",
          "iopub.status.idle": "2022-10-01T14:33:59.117198Z",
          "shell.execute_reply": "2022-10-01T14:33:59.116343Z",
          "shell.execute_reply.started": "2022-10-01T14:33:59.107524Z"
        },
        "trusted": true,
        "id": "1TDMlZOZfSNb"
      },
      "outputs": [],
      "source": [
        "def create_model():\n",
        "    dropout_rate=0.2\n",
        "    input_ids=Input(shape=(maxlen,),dtype=tf.int32)\n",
        "    input_mask=Input(shape=(maxlen,),dtype=tf.int32)\n",
        "    bert_layer=bert_model([input_ids,input_mask])[1]\n",
        "    x=Dropout(0.5)(bert_layer)\n",
        "    x=Dense(64,activation=\"tanh\")(x)\n",
        "    x=Dropout(0.2)(x)\n",
        "    x=Dense(1,activation=\"sigmoid\")(x)\n",
        "    model = Model(inputs=[input_ids, input_mask], outputs=x)\n",
        "    return model\n",
        "\n"
      ]
    },
    {
      "cell_type": "code",
      "execution_count": null,
      "metadata": {
        "execution": {
          "iopub.execute_input": "2022-10-01T14:33:59.118759Z",
          "iopub.status.busy": "2022-10-01T14:33:59.118484Z",
          "iopub.status.idle": "2022-10-01T14:34:04.799161Z",
          "shell.execute_reply": "2022-10-01T14:34:04.798412Z",
          "shell.execute_reply.started": "2022-10-01T14:33:59.118725Z"
        },
        "trusted": true,
        "id": "SDaan-8mfSNb",
        "outputId": "d840f406-6b88-4ab2-aa71-5fd28148f10e"
      },
      "outputs": [
        {
          "name": "stdout",
          "output_type": "stream",
          "text": [
            "Model: \"model\"\n",
            "__________________________________________________________________________________________________\n",
            "Layer (type)                    Output Shape         Param #     Connected to                     \n",
            "==================================================================================================\n",
            "input_1 (InputLayer)            [(None, 100)]        0                                            \n",
            "__________________________________________________________________________________________________\n",
            "input_2 (InputLayer)            [(None, 100)]        0                                            \n",
            "__________________________________________________________________________________________________\n",
            "tf_bert_model (TFBertModel)     TFBaseModelOutputWit 109482240   input_1[0][0]                    \n",
            "                                                                 input_2[0][0]                    \n",
            "__________________________________________________________________________________________________\n",
            "dropout_37 (Dropout)            (None, 768)          0           tf_bert_model[0][1]              \n",
            "__________________________________________________________________________________________________\n",
            "dense (Dense)                   (None, 64)           49216       dropout_37[0][0]                 \n",
            "__________________________________________________________________________________________________\n",
            "dropout_38 (Dropout)            (None, 64)           0           dense[0][0]                      \n",
            "__________________________________________________________________________________________________\n",
            "dense_1 (Dense)                 (None, 1)            65          dropout_38[0][0]                 \n",
            "==================================================================================================\n",
            "Total params: 109,531,521\n",
            "Trainable params: 109,531,521\n",
            "Non-trainable params: 0\n",
            "__________________________________________________________________________________________________\n"
          ]
        }
      ],
      "source": [
        "model=create_model()\n",
        "model.summary()"
      ]
    },
    {
      "cell_type": "code",
      "execution_count": null,
      "metadata": {
        "execution": {
          "iopub.execute_input": "2022-10-01T14:34:04.800796Z",
          "iopub.status.busy": "2022-10-01T14:34:04.800248Z",
          "iopub.status.idle": "2022-10-01T14:34:04.818058Z",
          "shell.execute_reply": "2022-10-01T14:34:04.817274Z",
          "shell.execute_reply.started": "2022-10-01T14:34:04.800759Z"
        },
        "trusted": true,
        "id": "KqMX2hd3fSNb"
      },
      "outputs": [],
      "source": [
        "optimizer = Adam(learning_rate=1e-05, epsilon=1e-08, decay=0.01,clipnorm=1.0)\n",
        "model.compile(optimizer = optimizer, loss = 'binary_crossentropy', metrics = 'accuracy')"
      ]
    },
    {
      "cell_type": "code",
      "execution_count": null,
      "metadata": {
        "execution": {
          "iopub.execute_input": "2022-10-01T14:34:04.819720Z",
          "iopub.status.busy": "2022-10-01T14:34:04.819417Z",
          "iopub.status.idle": "2022-10-01T14:34:04.826797Z",
          "shell.execute_reply": "2022-10-01T14:34:04.826103Z",
          "shell.execute_reply.started": "2022-10-01T14:34:04.819655Z"
        },
        "trusted": true,
        "id": "xgBtZNdCfSNc"
      },
      "outputs": [],
      "source": [
        "callback = tf.keras.callbacks.EarlyStopping(monitor='val_loss', mode='max', verbose=1, patience=50,baseline=0.4,min_delta=0.0001,restore_best_weights=False)"
      ]
    },
    {
      "cell_type": "code",
      "execution_count": null,
      "metadata": {
        "execution": {
          "iopub.execute_input": "2022-10-01T14:34:04.828350Z",
          "iopub.status.busy": "2022-10-01T14:34:04.828085Z",
          "iopub.status.idle": "2022-10-01T15:38:32.483530Z",
          "shell.execute_reply": "2022-10-01T15:38:32.482804Z",
          "shell.execute_reply.started": "2022-10-01T14:34:04.828316Z"
        },
        "trusted": true,
        "id": "u5QnJIAyfSNc",
        "outputId": "a5fd3c3b-fc52-4edc-b3c0-328f163e771b"
      },
      "outputs": [
        {
          "name": "stdout",
          "output_type": "stream",
          "text": [
            "Epoch 1/10\n"
          ]
        },
        {
          "name": "stderr",
          "output_type": "stream",
          "text": [
            "2022-10-01 14:34:04.896548: I tensorflow/compiler/mlir/mlir_graph_optimization_pass.cc:116] None of the MLIR optimization passes are enabled (registered 2)\n",
            "2022-10-01 14:34:04.907208: I tensorflow/core/platform/profile_utils/cpu_utils.cc:112] CPU Frequency: 2000185000 Hz\n"
          ]
        },
        {
          "name": "stdout",
          "output_type": "stream",
          "text": [
            "958/958 [==============================] - 407s 405ms/step - loss: 0.1422 - accuracy: 0.9382 - val_loss: 0.0050 - val_accuracy: 0.9989\n",
            "Epoch 2/10\n",
            "958/958 [==============================] - 384s 401ms/step - loss: 0.0063 - accuracy: 0.9991 - val_loss: 0.0042 - val_accuracy: 0.9992\n",
            "Epoch 3/10\n",
            "958/958 [==============================] - 384s 401ms/step - loss: 0.0042 - accuracy: 0.9995 - val_loss: 0.0041 - val_accuracy: 0.9993\n",
            "Epoch 4/10\n",
            "958/958 [==============================] - 384s 401ms/step - loss: 0.0038 - accuracy: 0.9994 - val_loss: 0.0038 - val_accuracy: 0.9994\n",
            "Epoch 5/10\n",
            "958/958 [==============================] - 385s 401ms/step - loss: 0.0027 - accuracy: 0.9997 - val_loss: 0.0038 - val_accuracy: 0.9994\n",
            "Epoch 6/10\n",
            "958/958 [==============================] - 384s 401ms/step - loss: 0.0045 - accuracy: 0.9994 - val_loss: 0.0039 - val_accuracy: 0.9994\n",
            "Epoch 7/10\n",
            "958/958 [==============================] - 384s 401ms/step - loss: 0.0024 - accuracy: 0.9998 - val_loss: 0.0039 - val_accuracy: 0.9994\n",
            "Epoch 8/10\n",
            "958/958 [==============================] - 385s 402ms/step - loss: 0.0029 - accuracy: 0.9996 - val_loss: 0.0040 - val_accuracy: 0.9994\n",
            "Epoch 9/10\n",
            "958/958 [==============================] - 385s 402ms/step - loss: 0.0028 - accuracy: 0.9996 - val_loss: 0.0043 - val_accuracy: 0.9992\n",
            "Epoch 10/10\n",
            "958/958 [==============================] - 384s 401ms/step - loss: 0.0028 - accuracy: 0.9995 - val_loss: 0.0041 - val_accuracy: 0.9992\n"
          ]
        }
      ],
      "source": [
        "history = model.fit(x = {'input_1':X_train_token['input_ids'],'input_2':X_train_token['attention_mask']}, y = Y_train, epochs=10, validation_split = 0.2, batch_size = 30, callbacks=[callback])"
      ]
    },
    {
      "cell_type": "code",
      "execution_count": null,
      "metadata": {
        "execution": {
          "iopub.execute_input": "2022-10-01T15:38:32.485476Z",
          "iopub.status.busy": "2022-10-01T15:38:32.485133Z",
          "iopub.status.idle": "2022-10-01T15:38:32.771427Z",
          "shell.execute_reply": "2022-10-01T15:38:32.770628Z",
          "shell.execute_reply.started": "2022-10-01T15:38:32.485437Z"
        },
        "trusted": true,
        "id": "6LenyYJqfSNc",
        "outputId": "1c0d64d0-c120-4794-9782-7182af319bae"
      },
      "outputs": [
        {
          "data": {
            "image/png": "[encoded data removed]",
            "text/plain": [
              "<Figure size 360x360 with 1 Axes>"
            ]
          },
          "metadata": {},
          "output_type": "display_data"
        }
      ],
      "source": [
        "# summarize history for accuracy\n",
        "plt.plot(history.history['accuracy'])\n",
        "plt.plot(history.history['val_accuracy'])\n",
        "plt.title('model accuracy')\n",
        "plt.ylabel('accuracy')\n",
        "plt.xlabel('epoch')\n",
        "plt.legend(['train', 'test'], loc='upper left')\n",
        "plt.show()"
      ]
    },
    {
      "cell_type": "code",
      "execution_count": null,
      "metadata": {
        "execution": {
          "iopub.execute_input": "2022-10-01T15:38:32.773828Z",
          "iopub.status.busy": "2022-10-01T15:38:32.772616Z",
          "iopub.status.idle": "2022-10-01T15:38:33.018390Z",
          "shell.execute_reply": "2022-10-01T15:38:33.017572Z",
          "shell.execute_reply.started": "2022-10-01T15:38:32.773788Z"
        },
        "trusted": true,
        "id": "TZn_mt6gfSNc",
        "outputId": "49abf169-5b58-4223-9943-cedd54d475a7"
      },
      "outputs": [
        {
          "data": {
            "image/png": "[encoded data removed]",
            "text/plain": [
              "<Figure size 360x360 with 1 Axes>"
            ]
          },
          "metadata": {},
          "output_type": "display_data"
        }
      ],
      "source": [
        "# summarize history for loss\n",
        "plt.plot(history.history['loss'])\n",
        "plt.plot(history.history['val_loss'])\n",
        "plt.title('model loss')\n",
        "plt.ylabel('loss')\n",
        "plt.xlabel('epoch')\n",
        "plt.legend(['train', 'test'], loc='upper left')\n",
        "plt.show()\n"
      ]
    },
    {
      "cell_type": "code",
      "execution_count": null,
      "metadata": {
        "execution": {
          "iopub.execute_input": "2022-10-01T15:38:33.019826Z",
          "iopub.status.busy": "2022-10-01T15:38:33.019541Z",
          "iopub.status.idle": "2022-10-01T15:39:11.312551Z",
          "shell.execute_reply": "2022-10-01T15:39:11.311735Z",
          "shell.execute_reply.started": "2022-10-01T15:38:33.019786Z"
        },
        "trusted": true,
        "id": "jCBO8hpGfSNc"
      },
      "outputs": [],
      "source": [
        "y_pred = np.where(model.predict({ 'input_1' : X_test_token['input_ids'] , 'input_2' : X_test_token['attention_mask']}) >=0.5,1,0)"
      ]
    },
    {
      "cell_type": "markdown",
      "metadata": {
        "id": "uFJ5nUYIfSNc"
      },
      "source": [
        "##Confusion matrix"
      ]
    },
    {
      "cell_type": "code",
      "execution_count": null,
      "metadata": {
        "execution": {
          "iopub.execute_input": "2022-10-01T15:39:11.314387Z",
          "iopub.status.busy": "2022-10-01T15:39:11.313975Z",
          "iopub.status.idle": "2022-10-01T15:39:11.519791Z",
          "shell.execute_reply": "2022-10-01T15:39:11.518950Z",
          "shell.execute_reply.started": "2022-10-01T15:39:11.314352Z"
        },
        "trusted": true,
        "id": "dya7zu6ufSNc",
        "outputId": "6b89e215-a131-45ba-8b77-d36a10dbbb8a"
      },
      "outputs": [
        {
          "data": {
            "image/png": "[encoded data removed]",
            "text/plain": [
              "<Figure size 432x432 with 1 Axes>"
            ]
          },
          "metadata": {},
          "output_type": "display_data"
        }
      ],
      "source": [
        "from mlxtend.plotting import plot_confusion_matrix\n",
        "conf_matrix = confusion_matrix(Y_test,y_pred)\n",
        "fig, ax = plot_confusion_matrix(conf_mat=conf_matrix, figsize=(6, 6), cmap=plt.cm.Greens)\n",
        "plt.xlabel('Predictions', fontsize=18)\n",
        "plt.ylabel('Actuals', fontsize=18)\n",
        "plt.title('Confusion Matrix', fontsize=18)\n",
        "plt.show()"
      ]
    },
    {
      "cell_type": "code",
      "execution_count": null,
      "metadata": {
        "execution": {
          "iopub.execute_input": "2022-10-01T15:39:11.521469Z",
          "iopub.status.busy": "2022-10-01T15:39:11.521200Z",
          "iopub.status.idle": "2022-10-01T15:39:11.543134Z",
          "shell.execute_reply": "2022-10-01T15:39:11.542330Z",
          "shell.execute_reply.started": "2022-10-01T15:39:11.521435Z"
        },
        "trusted": true,
        "id": "9JuD_5QffSNd",
        "outputId": "76fb94bc-8b27-486e-d1f0-3ecd28a52bf5"
      },
      "outputs": [
        {
          "name": "stdout",
          "output_type": "stream",
          "text": [
            "              precision    recall  f1-score   support\n",
            "\n",
            "           0       1.00      1.00      1.00      4696\n",
            "           1       1.00      1.00      1.00      4284\n",
            "\n",
            "    accuracy                           1.00      8980\n",
            "   macro avg       1.00      1.00      1.00      8980\n",
            "weighted avg       1.00      1.00      1.00      8980\n",
            "\n"
          ]
        }
      ],
      "source": [
        "print(classification_report(Y_test,y_pred))"
      ]
    },
    {
      "cell_type": "markdown",
      "metadata": {
        "id": "YcPdhr-_fSNd"
      },
      "source": [
        "##Custom data prediction"
      ]
    },
    {
      "cell_type": "code",
      "execution_count": null,
      "metadata": {
        "execution": {
          "iopub.execute_input": "2022-10-01T15:39:11.544916Z",
          "iopub.status.busy": "2022-10-01T15:39:11.544505Z",
          "iopub.status.idle": "2022-10-01T15:39:11.550459Z",
          "shell.execute_reply": "2022-10-01T15:39:11.549725Z",
          "shell.execute_reply.started": "2022-10-01T15:39:11.544882Z"
        },
        "trusted": true,
        "id": "uFUl_b3HfSNd"
      },
      "outputs": [],
      "source": [
        "test_text=\"Cop Shares Racist Meme About Michelle Obama; Now That Cop Is Having A VERY Bad Day (IMAGES)After the election of Donald Trump many folks seem to see it as a permission slip to be as racist and vile as possible. However, here s the thing, you re still going to get called out as racist and vile. And one Alabama police officer just found this out the hard way.According to the Washington Post: Talladega Police Officer Joel Husk was terminated Wednesday for violating the department s social media and code of conduct policies, City Manager Patrick Bryant said. What did he do? So glad you asked: Husk had posted several memes on his Facebook page, including one showing Obama and Melania Trump.  Fluent in Slovenian, English, French, Serbian, and German,  it said over Trump s photo. Over Obama s, it read:  Fluent in Ghetto. Not only that, he posted several extraordinarily racist memes:via Washington Postvia Washington PostAccording to the City Manager, the statements were  deemed to be biased or racially insensitive or derogatory  and because of that, they  have to take action to correct it. If you re going to be a police officer and serve all the public, you can t assume black people standing up for their rights are equivalent to the KKK. That s about the most horrific equivalence imaginable.Also, according to WaPo: Husk, 37, who had been with the department for about two and a half years, had also shared a meme showing President Obama with the words:  Was Dallas a terrorist attack? Yes! Carried out by Obama s own homegrown terrorist group! Which is a blatant lie and anyone who were to feel that way belongs nowhere near law enforcement. The city took the proper action letting this racist cop go, and hopefully it will be an example to police departments all over the country that this sort of behavior simply cannot be tolerated.Trump s election must not be allowed to serve as a permission slip to bigots everywhere that it s fine to be as awful as possible, because here in the land of the free and the home of the brave, everyone is protected. Everyone, regardless of color, class, gender, sexual orientation, or creed.Featured Photo by Chip Somodevilla/Getty Images'\""
      ]
    },
    {
      "cell_type": "code",
      "execution_count": null,
      "metadata": {
        "execution": {
          "iopub.execute_input": "2022-10-01T15:39:11.552046Z",
          "iopub.status.busy": "2022-10-01T15:39:11.551776Z",
          "iopub.status.idle": "2022-10-01T15:39:12.042412Z",
          "shell.execute_reply": "2022-10-01T15:39:12.041684Z",
          "shell.execute_reply.started": "2022-10-01T15:39:11.552014Z"
        },
        "trusted": true,
        "id": "N7Pi8tX-fSNd"
      },
      "outputs": [],
      "source": [
        "test_token = tokenize(test_text)"
      ]
    },
    {
      "cell_type": "code",
      "execution_count": null,
      "metadata": {
        "execution": {
          "iopub.execute_input": "2022-10-01T15:39:12.044206Z",
          "iopub.status.busy": "2022-10-01T15:39:12.043780Z",
          "iopub.status.idle": "2022-10-01T15:39:20.886617Z",
          "shell.execute_reply": "2022-10-01T15:39:20.885855Z",
          "shell.execute_reply.started": "2022-10-01T15:39:12.044169Z"
        },
        "trusted": true,
        "id": "HWUVxnjYfSNe"
      },
      "outputs": [],
      "source": [
        "test_text_pred = np.where(model.predict({ 'input_1' : test_token['input_ids'] , 'input_2' : test_token['attention_mask']}) >=0.5,1,0)"
      ]
    },
    {
      "cell_type": "code",
      "execution_count": null,
      "metadata": {
        "execution": {
          "iopub.execute_input": "2022-10-01T15:39:20.888039Z",
          "iopub.status.busy": "2022-10-01T15:39:20.887792Z",
          "iopub.status.idle": "2022-10-01T15:39:20.895297Z",
          "shell.execute_reply": "2022-10-01T15:39:20.894638Z",
          "shell.execute_reply.started": "2022-10-01T15:39:20.888006Z"
        },
        "trusted": true,
        "id": "fjqCUgg9fSNe",
        "outputId": "b0ec9dae-dbe8-4e90-a5d0-869c92d47e3c"
      },
      "outputs": [
        {
          "data": {
            "text/plain": [
              "array([[0],\n",
              "       [0],\n",
              "       [0],\n",
              "       ...,\n",
              "       [0],\n",
              "       [0],\n",
              "       [0]])"
            ]
          },
          "execution_count": 51,
          "metadata": {},
          "output_type": "execute_result"
        }
      ],
      "source": [
        "test_text_pred"
      ]
    },
    {
      "cell_type": "code",
      "execution_count": null,
      "metadata": {
        "execution": {
          "iopub.execute_input": "2022-10-01T15:39:20.897025Z",
          "iopub.status.busy": "2022-10-01T15:39:20.896575Z",
          "iopub.status.idle": "2022-10-01T15:39:20.908746Z",
          "shell.execute_reply": "2022-10-01T15:39:20.907931Z",
          "shell.execute_reply.started": "2022-10-01T15:39:20.896989Z"
        },
        "trusted": true,
        "id": "AQoH8Y4bfSNe",
        "outputId": "e52067aa-15db-4849-97c1-2e78ae0386c3"
      },
      "outputs": [
        {
          "name": "stdout",
          "output_type": "stream",
          "text": [
            "News is Fake\n"
          ]
        }
      ],
      "source": [
        "if(test_text_pred[0]==0):\n",
        "    print(\"News is Fake\")\n",
        "else:\n",
        "    print(\"News is Real\")"
      ]
    }
  ],
  "metadata": {
    "kernelspec": {
      "display_name": "Python 3",
      "language": "python",
      "name": "python3"
    },
    "language_info": {
      "codemirror_mode": {
        "name": "ipython",
        "version": 3
      },
      "file_extension": ".py",
      "mimetype": "text/x-python",
      "name": "python",
      "nbconvert_exporter": "python",
      "pygments_lexer": "ipython3",
      "version": "3.7.10"
    },
    "colab": {
      "provenance": []
    }
  },
  "nbformat": 4,
  "nbformat_minor": 0
}